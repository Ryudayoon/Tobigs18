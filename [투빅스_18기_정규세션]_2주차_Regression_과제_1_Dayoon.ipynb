{
  "cells": [
    {
      "cell_type": "markdown",
      "metadata": {
        "id": "HtloJibI_5uB"
      },
      "source": [
        "# 과제 1"
      ]
    },
    {
      "cell_type": "markdown",
      "metadata": {
        "id": "poKqKrLb_5uH"
      },
      "source": [
        "## Matrix 구현 \n",
        "1. Linear Regression에서 쓰이는 **정규방정식**을 행렬로 구현하고, sklearn 혹은 OLS 패키지를 통해 구한 **실제 값과 비교**해주세요.\n",
        "2. LSE에서 쓰이는 Loss Function, **MSE**를 행렬로 구현해 출력해주세요."
      ]
    },
    {
      "cell_type": "markdown",
      "metadata": {
        "id": "MaVCkq3g_5uJ"
      },
      "source": [
        "### Data Load "
      ]
    },
    {
      "cell_type": "code",
      "execution_count": 9,
      "metadata": {
        "id": "lX6_aNNU_5uK"
      },
      "outputs": [],
      "source": [
        "import pandas as pd \n",
        "data = pd.read_csv(\"assignment1.csv\")"
      ]
    },
    {
      "cell_type": "code",
      "execution_count": 10,
      "metadata": {
        "id": "PJVRecL-_5uM",
        "outputId": "2dd6978f-0553-4802-fcee-8715b8580dfb",
        "colab": {
          "base_uri": "https://localhost:8080/",
          "height": 206
        }
      },
      "outputs": [
        {
          "output_type": "execute_result",
          "data": {
            "text/plain": [
              "    y    x1    x2  x3   x4    x5\n",
              "0  10  38.9  64.7   4  868  59.7\n",
              "1  13  41.6  45.3  -4  957  61.4\n",
              "2  11  39.7  74.1   8  786  61.0\n",
              "3   7  37.3  48.0  19  984  67.5\n",
              "4  10  39.5  51.9   6  700  57.2"
            ],
            "text/html": [
              "\n",
              "  <div id=\"df-ef568407-dcf6-415a-9f34-a9501bba045e\">\n",
              "    <div class=\"colab-df-container\">\n",
              "      <div>\n",
              "<style scoped>\n",
              "    .dataframe tbody tr th:only-of-type {\n",
              "        vertical-align: middle;\n",
              "    }\n",
              "\n",
              "    .dataframe tbody tr th {\n",
              "        vertical-align: top;\n",
              "    }\n",
              "\n",
              "    .dataframe thead th {\n",
              "        text-align: right;\n",
              "    }\n",
              "</style>\n",
              "<table border=\"1\" class=\"dataframe\">\n",
              "  <thead>\n",
              "    <tr style=\"text-align: right;\">\n",
              "      <th></th>\n",
              "      <th>y</th>\n",
              "      <th>x1</th>\n",
              "      <th>x2</th>\n",
              "      <th>x3</th>\n",
              "      <th>x4</th>\n",
              "      <th>x5</th>\n",
              "    </tr>\n",
              "  </thead>\n",
              "  <tbody>\n",
              "    <tr>\n",
              "      <th>0</th>\n",
              "      <td>10</td>\n",
              "      <td>38.9</td>\n",
              "      <td>64.7</td>\n",
              "      <td>4</td>\n",
              "      <td>868</td>\n",
              "      <td>59.7</td>\n",
              "    </tr>\n",
              "    <tr>\n",
              "      <th>1</th>\n",
              "      <td>13</td>\n",
              "      <td>41.6</td>\n",
              "      <td>45.3</td>\n",
              "      <td>-4</td>\n",
              "      <td>957</td>\n",
              "      <td>61.4</td>\n",
              "    </tr>\n",
              "    <tr>\n",
              "      <th>2</th>\n",
              "      <td>11</td>\n",
              "      <td>39.7</td>\n",
              "      <td>74.1</td>\n",
              "      <td>8</td>\n",
              "      <td>786</td>\n",
              "      <td>61.0</td>\n",
              "    </tr>\n",
              "    <tr>\n",
              "      <th>3</th>\n",
              "      <td>7</td>\n",
              "      <td>37.3</td>\n",
              "      <td>48.0</td>\n",
              "      <td>19</td>\n",
              "      <td>984</td>\n",
              "      <td>67.5</td>\n",
              "    </tr>\n",
              "    <tr>\n",
              "      <th>4</th>\n",
              "      <td>10</td>\n",
              "      <td>39.5</td>\n",
              "      <td>51.9</td>\n",
              "      <td>6</td>\n",
              "      <td>700</td>\n",
              "      <td>57.2</td>\n",
              "    </tr>\n",
              "  </tbody>\n",
              "</table>\n",
              "</div>\n",
              "      <button class=\"colab-df-convert\" onclick=\"convertToInteractive('df-ef568407-dcf6-415a-9f34-a9501bba045e')\"\n",
              "              title=\"Convert this dataframe to an interactive table.\"\n",
              "              style=\"display:none;\">\n",
              "        \n",
              "  <svg xmlns=\"http://www.w3.org/2000/svg\" height=\"24px\"viewBox=\"0 0 24 24\"\n",
              "       width=\"24px\">\n",
              "    <path d=\"M0 0h24v24H0V0z\" fill=\"none\"/>\n",
              "    <path d=\"M18.56 5.44l.94 2.06.94-2.06 2.06-.94-2.06-.94-.94-2.06-.94 2.06-2.06.94zm-11 1L8.5 8.5l.94-2.06 2.06-.94-2.06-.94L8.5 2.5l-.94 2.06-2.06.94zm10 10l.94 2.06.94-2.06 2.06-.94-2.06-.94-.94-2.06-.94 2.06-2.06.94z\"/><path d=\"M17.41 7.96l-1.37-1.37c-.4-.4-.92-.59-1.43-.59-.52 0-1.04.2-1.43.59L10.3 9.45l-7.72 7.72c-.78.78-.78 2.05 0 2.83L4 21.41c.39.39.9.59 1.41.59.51 0 1.02-.2 1.41-.59l7.78-7.78 2.81-2.81c.8-.78.8-2.07 0-2.86zM5.41 20L4 18.59l7.72-7.72 1.47 1.35L5.41 20z\"/>\n",
              "  </svg>\n",
              "      </button>\n",
              "      \n",
              "  <style>\n",
              "    .colab-df-container {\n",
              "      display:flex;\n",
              "      flex-wrap:wrap;\n",
              "      gap: 12px;\n",
              "    }\n",
              "\n",
              "    .colab-df-convert {\n",
              "      background-color: #E8F0FE;\n",
              "      border: none;\n",
              "      border-radius: 50%;\n",
              "      cursor: pointer;\n",
              "      display: none;\n",
              "      fill: #1967D2;\n",
              "      height: 32px;\n",
              "      padding: 0 0 0 0;\n",
              "      width: 32px;\n",
              "    }\n",
              "\n",
              "    .colab-df-convert:hover {\n",
              "      background-color: #E2EBFA;\n",
              "      box-shadow: 0px 1px 2px rgba(60, 64, 67, 0.3), 0px 1px 3px 1px rgba(60, 64, 67, 0.15);\n",
              "      fill: #174EA6;\n",
              "    }\n",
              "\n",
              "    [theme=dark] .colab-df-convert {\n",
              "      background-color: #3B4455;\n",
              "      fill: #D2E3FC;\n",
              "    }\n",
              "\n",
              "    [theme=dark] .colab-df-convert:hover {\n",
              "      background-color: #434B5C;\n",
              "      box-shadow: 0px 1px 3px 1px rgba(0, 0, 0, 0.15);\n",
              "      filter: drop-shadow(0px 1px 2px rgba(0, 0, 0, 0.3));\n",
              "      fill: #FFFFFF;\n",
              "    }\n",
              "  </style>\n",
              "\n",
              "      <script>\n",
              "        const buttonEl =\n",
              "          document.querySelector('#df-ef568407-dcf6-415a-9f34-a9501bba045e button.colab-df-convert');\n",
              "        buttonEl.style.display =\n",
              "          google.colab.kernel.accessAllowed ? 'block' : 'none';\n",
              "\n",
              "        async function convertToInteractive(key) {\n",
              "          const element = document.querySelector('#df-ef568407-dcf6-415a-9f34-a9501bba045e');\n",
              "          const dataTable =\n",
              "            await google.colab.kernel.invokeFunction('convertToInteractive',\n",
              "                                                     [key], {});\n",
              "          if (!dataTable) return;\n",
              "\n",
              "          const docLinkHtml = 'Like what you see? Visit the ' +\n",
              "            '<a target=\"_blank\" href=https://colab.research.google.com/notebooks/data_table.ipynb>data table notebook</a>'\n",
              "            + ' to learn more about interactive tables.';\n",
              "          element.innerHTML = '';\n",
              "          dataTable['output_type'] = 'display_data';\n",
              "          await google.colab.output.renderOutput(dataTable, element);\n",
              "          const docLink = document.createElement('div');\n",
              "          docLink.innerHTML = docLinkHtml;\n",
              "          element.appendChild(docLink);\n",
              "        }\n",
              "      </script>\n",
              "    </div>\n",
              "  </div>\n",
              "  "
            ]
          },
          "metadata": {},
          "execution_count": 10
        }
      ],
      "source": [
        "data.head()"
      ]
    },
    {
      "cell_type": "code",
      "execution_count": 11,
      "metadata": {
        "id": "Cdf4C5No_5uP",
        "outputId": "5e099dd1-04ed-402a-8ace-ccb5a478ec5d",
        "colab": {
          "base_uri": "https://localhost:8080/"
        }
      },
      "outputs": [
        {
          "output_type": "execute_result",
          "data": {
            "text/plain": [
              "(9, 6)"
            ]
          },
          "metadata": {},
          "execution_count": 11
        }
      ],
      "source": [
        "data.shape     # y:(9,1), X:(9,5)"
      ]
    },
    {
      "cell_type": "code",
      "execution_count": 12,
      "metadata": {
        "id": "rZuPCz_9_5uQ"
      },
      "outputs": [],
      "source": [
        "X = data.drop([\"y\"], axis=1)\n",
        "y = data.y"
      ]
    },
    {
      "cell_type": "code",
      "execution_count": 13,
      "metadata": {
        "id": "sI24Ruws_5uQ"
      },
      "outputs": [],
      "source": [
        "# Matrix 계산을 위해 X와 y를 numpy 형태로 바꾸어줍니다. \n",
        "X = X.to_numpy()\n",
        "y = y.to_numpy()"
      ]
    },
    {
      "cell_type": "code",
      "execution_count": 14,
      "metadata": {
        "id": "oIEx1Gk5_5uR",
        "outputId": "ec0901b2-901e-4078-d448-b0b87dfb91a2",
        "colab": {
          "base_uri": "https://localhost:8080/"
        }
      },
      "outputs": [
        {
          "output_type": "execute_result",
          "data": {
            "text/plain": [
              "array([[  38.9,   64.7,    4. ,  868. ,   59.7],\n",
              "       [  41.6,   45.3,   -4. ,  957. ,   61.4],\n",
              "       [  39.7,   74.1,    8. ,  786. ,   61. ],\n",
              "       [  37.3,   48. ,   19. ,  984. ,   67.5],\n",
              "       [  39.5,   51.9,    6. ,  700. ,   57.2],\n",
              "       [  37.4,   53.6,   -5. , 1037. ,   58.8],\n",
              "       [  35.1,   71.4,    3. ,  986. ,   58.6],\n",
              "       [  38.8,   58.3,    6. ,  819. ,   59.2],\n",
              "       [  36.6,   52.6,  -19. ,  791. ,   54.4]])"
            ]
          },
          "metadata": {},
          "execution_count": 14
        }
      ],
      "source": [
        "X"
      ]
    },
    {
      "cell_type": "code",
      "execution_count": 15,
      "metadata": {
        "id": "8xH58zzD_5uS",
        "outputId": "50b7c707-50d9-4859-863c-dc1c0de21ab5",
        "colab": {
          "base_uri": "https://localhost:8080/"
        }
      },
      "outputs": [
        {
          "output_type": "execute_result",
          "data": {
            "text/plain": [
              "array([10, 13, 11,  7, 10,  9,  9,  6,  5])"
            ]
          },
          "metadata": {},
          "execution_count": 15
        }
      ],
      "source": [
        "y"
      ]
    },
    {
      "cell_type": "markdown",
      "metadata": {
        "id": "F3JfJR95_5uT"
      },
      "source": [
        "### 1. Normal Equation"
      ]
    },
    {
      "cell_type": "code",
      "execution_count": 16,
      "metadata": {
        "id": "Fs3H6XKI_5uX"
      },
      "outputs": [],
      "source": [
        "import numpy as np\n",
        "from numpy.linalg import inv "
      ]
    },
    {
      "cell_type": "code",
      "execution_count": 17,
      "metadata": {
        "id": "oEiAbw86_5uX"
      },
      "outputs": [],
      "source": [
        "def estimate_beta(X, y):\n",
        "    designX = np.concatenate([np.ones((len(y), 1)), X], axis=1)\n",
        "    beta_hat = np.dot(np.dot(inv(np.dot(designX.T, designX)), designX.T), y)\n",
        "    \n",
        "    return beta_hat"
      ]
    },
    {
      "cell_type": "code",
      "execution_count": 18,
      "metadata": {
        "id": "MLFE-cvl_5uY",
        "outputId": "64d174da-69ea-40aa-cd4d-c10d16f6ef4b",
        "colab": {
          "base_uri": "https://localhost:8080/"
        }
      },
      "outputs": [
        {
          "output_type": "execute_result",
          "data": {
            "text/plain": [
              "array([-3.92447368e+01,  1.31232583e+00,  8.53744361e-02,  7.41849897e-02,\n",
              "        1.50018573e-02, -3.42273652e-01])"
            ]
          },
          "metadata": {},
          "execution_count": 18
        }
      ],
      "source": [
        "beta_hat = estimate_beta(X, y)\n",
        "beta_hat"
      ]
    },
    {
      "cell_type": "markdown",
      "metadata": {
        "id": "Kr4KXjl9_5uZ"
      },
      "source": [
        "#### 실제 값과 비교"
      ]
    },
    {
      "cell_type": "code",
      "execution_count": 19,
      "metadata": {
        "id": "Ef3Ggqo8_5uZ"
      },
      "outputs": [],
      "source": [
        "from sklearn.linear_model import LinearRegression"
      ]
    },
    {
      "cell_type": "code",
      "execution_count": 20,
      "metadata": {
        "id": "6Parv6ui_5uZ"
      },
      "outputs": [],
      "source": [
        "model = LinearRegression()\n",
        "model.fit(X,y)\n",
        "\n",
        "pred = model.predict(X)"
      ]
    },
    {
      "cell_type": "code",
      "execution_count": 21,
      "metadata": {
        "id": "B2ANlaBa_5ua",
        "outputId": "1a9741ba-acac-481b-ba93-157af6d3282d",
        "colab": {
          "base_uri": "https://localhost:8080/"
        }
      },
      "outputs": [
        {
          "output_type": "stream",
          "name": "stdout",
          "text": [
            "-39.24473678135655\n",
            "[ 1.31232583  0.08537444  0.07418499  0.01500186 -0.34227365]\n"
          ]
        }
      ],
      "source": [
        "print(model.intercept_)   # intercept\n",
        "print(model.coef_)   # 추정된 회귀계수 (intercept 제외)"
      ]
    },
    {
      "cell_type": "markdown",
      "metadata": {
        "id": "Csj01bXd_5ua"
      },
      "source": [
        "### 2. MSE"
      ]
    },
    {
      "cell_type": "code",
      "execution_count": 25,
      "metadata": {
        "id": "ADYxjyQ9_5ub"
      },
      "outputs": [],
      "source": [
        "def MSE(X, y, beta_hat):\n",
        "    designX = np.concatenate([np.ones((len(y), 1)), X], axis=1)\n",
        "    y_pred = np.dot(designX, beta_hat)\n",
        "    mse = np.sum((y - y_pred)**2) /  (len(y) - len(designX.T))\n",
        "    \n",
        "    return mse"
      ]
    },
    {
      "cell_type": "code",
      "execution_count": 26,
      "metadata": {
        "id": "Q4OB-8Oa_5ub",
        "outputId": "9efd40ad-1460-40de-bd06-4eac833eddd4",
        "colab": {
          "base_uri": "https://localhost:8080/"
        }
      },
      "outputs": [
        {
          "output_type": "execute_result",
          "data": {
            "text/plain": [
              "4.846793168705742"
            ]
          },
          "metadata": {},
          "execution_count": 26
        }
      ],
      "source": [
        "MSE(X, y, estimate_beta(X, y))"
      ]
    },
    {
      "cell_type": "code",
      "source": [
        ""
      ],
      "metadata": {
        "id": "UAatZSk7geme"
      },
      "execution_count": null,
      "outputs": []
    }
  ],
  "metadata": {
    "colab": {
      "name": "[투빅스 18기 정규세션] 2주차 Regression_과제 1_Dayoon.ipynb",
      "provenance": []
    },
    "kernelspec": {
      "display_name": "Python 3",
      "language": "python",
      "name": "python3"
    },
    "language_info": {
      "codemirror_mode": {
        "name": "ipython",
        "version": 3
      },
      "file_extension": ".py",
      "mimetype": "text/x-python",
      "name": "python",
      "nbconvert_exporter": "python",
      "pygments_lexer": "ipython3",
      "version": "3.8.5"
    }
  },
  "nbformat": 4,
  "nbformat_minor": 0
}