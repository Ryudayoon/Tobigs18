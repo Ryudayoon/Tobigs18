{
  "cells": [
    {
      "cell_type": "markdown",
      "id": "b0ba9b89",
      "metadata": {
        "id": "b0ba9b89"
      },
      "source": [
        "## NN Adv Assignment"
      ]
    },
    {
      "cell_type": "code",
      "execution_count": 19,
      "id": "80f09603",
      "metadata": {
        "id": "80f09603"
      },
      "outputs": [],
      "source": [
        "import numpy as np\n",
        "import pandas as pd\n",
        "import matplotlib.pyplot as plt\n",
        "\n",
        "### Pytorch\n",
        "\n",
        "import torch\n",
        "import torch.nn as nn\n",
        "import torch.nn.functional as F\n",
        "\n",
        "### TensorFlow\n",
        "\n",
        "import tensorflow as tf\n",
        "from tensorflow import keras\n",
        "\n",
        "import warnings\n",
        "warnings.filterwarnings(action='ignore')"
      ]
    },
    {
      "cell_type": "markdown",
      "id": "7e8c1bab",
      "metadata": {
        "id": "7e8c1bab"
      },
      "source": [
        "### Load Data"
      ]
    },
    {
      "cell_type": "code",
      "execution_count": 20,
      "id": "b3eb5f5d",
      "metadata": {
        "id": "b3eb5f5d"
      },
      "outputs": [],
      "source": [
        "train = pd.read_csv('Train.csv')\n",
        "test = pd.read_csv('Test.csv')"
      ]
    },
    {
      "cell_type": "code",
      "execution_count": 21,
      "id": "ae6f6178",
      "metadata": {
        "colab": {
          "base_uri": "https://localhost:8080/",
          "height": 235
        },
        "id": "ae6f6178",
        "outputId": "73920617-cdbb-4db7-bb27-87e02239d2b8"
      },
      "outputs": [
        {
          "output_type": "execute_result",
          "data": {
            "text/plain": [
              "   0  1  2  3  4  5  6  7  8  9  ...  775  776  777  778  779  780  781  782  \\\n",
              "0  0  0  0  0  0  0  0  0  0  0  ...    0    0    0    0    0    0    0    0   \n",
              "1  0  0  0  0  0  0  0  0  0  0  ...    0    0    0    0    0    0    0    0   \n",
              "2  0  0  0  0  0  0  0  0  0  0  ...    0    0    0    0    0    0    0    0   \n",
              "3  0  0  0  0  0  0  0  0  0  0  ...    0    0    0    0    0    0    0    0   \n",
              "4  0  0  0  0  0  0  0  0  0  0  ...    0    0    0    0    0    0    0    0   \n",
              "\n",
              "   783  label  \n",
              "0    0      1  \n",
              "1    0      3  \n",
              "2    0      8  \n",
              "3    0      7  \n",
              "4    0      5  \n",
              "\n",
              "[5 rows x 785 columns]"
            ],
            "text/html": [
              "\n",
              "  <div id=\"df-05c8cbcc-b333-46de-bf06-2c77ca5d2ea0\">\n",
              "    <div class=\"colab-df-container\">\n",
              "      <div>\n",
              "<style scoped>\n",
              "    .dataframe tbody tr th:only-of-type {\n",
              "        vertical-align: middle;\n",
              "    }\n",
              "\n",
              "    .dataframe tbody tr th {\n",
              "        vertical-align: top;\n",
              "    }\n",
              "\n",
              "    .dataframe thead th {\n",
              "        text-align: right;\n",
              "    }\n",
              "</style>\n",
              "<table border=\"1\" class=\"dataframe\">\n",
              "  <thead>\n",
              "    <tr style=\"text-align: right;\">\n",
              "      <th></th>\n",
              "      <th>0</th>\n",
              "      <th>1</th>\n",
              "      <th>2</th>\n",
              "      <th>3</th>\n",
              "      <th>4</th>\n",
              "      <th>5</th>\n",
              "      <th>6</th>\n",
              "      <th>7</th>\n",
              "      <th>8</th>\n",
              "      <th>9</th>\n",
              "      <th>...</th>\n",
              "      <th>775</th>\n",
              "      <th>776</th>\n",
              "      <th>777</th>\n",
              "      <th>778</th>\n",
              "      <th>779</th>\n",
              "      <th>780</th>\n",
              "      <th>781</th>\n",
              "      <th>782</th>\n",
              "      <th>783</th>\n",
              "      <th>label</th>\n",
              "    </tr>\n",
              "  </thead>\n",
              "  <tbody>\n",
              "    <tr>\n",
              "      <th>0</th>\n",
              "      <td>0</td>\n",
              "      <td>0</td>\n",
              "      <td>0</td>\n",
              "      <td>0</td>\n",
              "      <td>0</td>\n",
              "      <td>0</td>\n",
              "      <td>0</td>\n",
              "      <td>0</td>\n",
              "      <td>0</td>\n",
              "      <td>0</td>\n",
              "      <td>...</td>\n",
              "      <td>0</td>\n",
              "      <td>0</td>\n",
              "      <td>0</td>\n",
              "      <td>0</td>\n",
              "      <td>0</td>\n",
              "      <td>0</td>\n",
              "      <td>0</td>\n",
              "      <td>0</td>\n",
              "      <td>0</td>\n",
              "      <td>1</td>\n",
              "    </tr>\n",
              "    <tr>\n",
              "      <th>1</th>\n",
              "      <td>0</td>\n",
              "      <td>0</td>\n",
              "      <td>0</td>\n",
              "      <td>0</td>\n",
              "      <td>0</td>\n",
              "      <td>0</td>\n",
              "      <td>0</td>\n",
              "      <td>0</td>\n",
              "      <td>0</td>\n",
              "      <td>0</td>\n",
              "      <td>...</td>\n",
              "      <td>0</td>\n",
              "      <td>0</td>\n",
              "      <td>0</td>\n",
              "      <td>0</td>\n",
              "      <td>0</td>\n",
              "      <td>0</td>\n",
              "      <td>0</td>\n",
              "      <td>0</td>\n",
              "      <td>0</td>\n",
              "      <td>3</td>\n",
              "    </tr>\n",
              "    <tr>\n",
              "      <th>2</th>\n",
              "      <td>0</td>\n",
              "      <td>0</td>\n",
              "      <td>0</td>\n",
              "      <td>0</td>\n",
              "      <td>0</td>\n",
              "      <td>0</td>\n",
              "      <td>0</td>\n",
              "      <td>0</td>\n",
              "      <td>0</td>\n",
              "      <td>0</td>\n",
              "      <td>...</td>\n",
              "      <td>0</td>\n",
              "      <td>0</td>\n",
              "      <td>0</td>\n",
              "      <td>0</td>\n",
              "      <td>0</td>\n",
              "      <td>0</td>\n",
              "      <td>0</td>\n",
              "      <td>0</td>\n",
              "      <td>0</td>\n",
              "      <td>8</td>\n",
              "    </tr>\n",
              "    <tr>\n",
              "      <th>3</th>\n",
              "      <td>0</td>\n",
              "      <td>0</td>\n",
              "      <td>0</td>\n",
              "      <td>0</td>\n",
              "      <td>0</td>\n",
              "      <td>0</td>\n",
              "      <td>0</td>\n",
              "      <td>0</td>\n",
              "      <td>0</td>\n",
              "      <td>0</td>\n",
              "      <td>...</td>\n",
              "      <td>0</td>\n",
              "      <td>0</td>\n",
              "      <td>0</td>\n",
              "      <td>0</td>\n",
              "      <td>0</td>\n",
              "      <td>0</td>\n",
              "      <td>0</td>\n",
              "      <td>0</td>\n",
              "      <td>0</td>\n",
              "      <td>7</td>\n",
              "    </tr>\n",
              "    <tr>\n",
              "      <th>4</th>\n",
              "      <td>0</td>\n",
              "      <td>0</td>\n",
              "      <td>0</td>\n",
              "      <td>0</td>\n",
              "      <td>0</td>\n",
              "      <td>0</td>\n",
              "      <td>0</td>\n",
              "      <td>0</td>\n",
              "      <td>0</td>\n",
              "      <td>0</td>\n",
              "      <td>...</td>\n",
              "      <td>0</td>\n",
              "      <td>0</td>\n",
              "      <td>0</td>\n",
              "      <td>0</td>\n",
              "      <td>0</td>\n",
              "      <td>0</td>\n",
              "      <td>0</td>\n",
              "      <td>0</td>\n",
              "      <td>0</td>\n",
              "      <td>5</td>\n",
              "    </tr>\n",
              "  </tbody>\n",
              "</table>\n",
              "<p>5 rows × 785 columns</p>\n",
              "</div>\n",
              "      <button class=\"colab-df-convert\" onclick=\"convertToInteractive('df-05c8cbcc-b333-46de-bf06-2c77ca5d2ea0')\"\n",
              "              title=\"Convert this dataframe to an interactive table.\"\n",
              "              style=\"display:none;\">\n",
              "        \n",
              "  <svg xmlns=\"http://www.w3.org/2000/svg\" height=\"24px\"viewBox=\"0 0 24 24\"\n",
              "       width=\"24px\">\n",
              "    <path d=\"M0 0h24v24H0V0z\" fill=\"none\"/>\n",
              "    <path d=\"M18.56 5.44l.94 2.06.94-2.06 2.06-.94-2.06-.94-.94-2.06-.94 2.06-2.06.94zm-11 1L8.5 8.5l.94-2.06 2.06-.94-2.06-.94L8.5 2.5l-.94 2.06-2.06.94zm10 10l.94 2.06.94-2.06 2.06-.94-2.06-.94-.94-2.06-.94 2.06-2.06.94z\"/><path d=\"M17.41 7.96l-1.37-1.37c-.4-.4-.92-.59-1.43-.59-.52 0-1.04.2-1.43.59L10.3 9.45l-7.72 7.72c-.78.78-.78 2.05 0 2.83L4 21.41c.39.39.9.59 1.41.59.51 0 1.02-.2 1.41-.59l7.78-7.78 2.81-2.81c.8-.78.8-2.07 0-2.86zM5.41 20L4 18.59l7.72-7.72 1.47 1.35L5.41 20z\"/>\n",
              "  </svg>\n",
              "      </button>\n",
              "      \n",
              "  <style>\n",
              "    .colab-df-container {\n",
              "      display:flex;\n",
              "      flex-wrap:wrap;\n",
              "      gap: 12px;\n",
              "    }\n",
              "\n",
              "    .colab-df-convert {\n",
              "      background-color: #E8F0FE;\n",
              "      border: none;\n",
              "      border-radius: 50%;\n",
              "      cursor: pointer;\n",
              "      display: none;\n",
              "      fill: #1967D2;\n",
              "      height: 32px;\n",
              "      padding: 0 0 0 0;\n",
              "      width: 32px;\n",
              "    }\n",
              "\n",
              "    .colab-df-convert:hover {\n",
              "      background-color: #E2EBFA;\n",
              "      box-shadow: 0px 1px 2px rgba(60, 64, 67, 0.3), 0px 1px 3px 1px rgba(60, 64, 67, 0.15);\n",
              "      fill: #174EA6;\n",
              "    }\n",
              "\n",
              "    [theme=dark] .colab-df-convert {\n",
              "      background-color: #3B4455;\n",
              "      fill: #D2E3FC;\n",
              "    }\n",
              "\n",
              "    [theme=dark] .colab-df-convert:hover {\n",
              "      background-color: #434B5C;\n",
              "      box-shadow: 0px 1px 3px 1px rgba(0, 0, 0, 0.15);\n",
              "      filter: drop-shadow(0px 1px 2px rgba(0, 0, 0, 0.3));\n",
              "      fill: #FFFFFF;\n",
              "    }\n",
              "  </style>\n",
              "\n",
              "      <script>\n",
              "        const buttonEl =\n",
              "          document.querySelector('#df-05c8cbcc-b333-46de-bf06-2c77ca5d2ea0 button.colab-df-convert');\n",
              "        buttonEl.style.display =\n",
              "          google.colab.kernel.accessAllowed ? 'block' : 'none';\n",
              "\n",
              "        async function convertToInteractive(key) {\n",
              "          const element = document.querySelector('#df-05c8cbcc-b333-46de-bf06-2c77ca5d2ea0');\n",
              "          const dataTable =\n",
              "            await google.colab.kernel.invokeFunction('convertToInteractive',\n",
              "                                                     [key], {});\n",
              "          if (!dataTable) return;\n",
              "\n",
              "          const docLinkHtml = 'Like what you see? Visit the ' +\n",
              "            '<a target=\"_blank\" href=https://colab.research.google.com/notebooks/data_table.ipynb>data table notebook</a>'\n",
              "            + ' to learn more about interactive tables.';\n",
              "          element.innerHTML = '';\n",
              "          dataTable['output_type'] = 'display_data';\n",
              "          await google.colab.output.renderOutput(dataTable, element);\n",
              "          const docLink = document.createElement('div');\n",
              "          docLink.innerHTML = docLinkHtml;\n",
              "          element.appendChild(docLink);\n",
              "        }\n",
              "      </script>\n",
              "    </div>\n",
              "  </div>\n",
              "  "
            ]
          },
          "metadata": {},
          "execution_count": 21
        }
      ],
      "source": [
        "train.head()"
      ]
    },
    {
      "cell_type": "code",
      "execution_count": 22,
      "id": "4e92830d",
      "metadata": {
        "colab": {
          "base_uri": "https://localhost:8080/"
        },
        "id": "4e92830d",
        "outputId": "9ccecb0c-57eb-4d45-d3eb-2e2bf33cb1b2"
      },
      "outputs": [
        {
          "output_type": "execute_result",
          "data": {
            "text/plain": [
              "10"
            ]
          },
          "metadata": {},
          "execution_count": 22
        }
      ],
      "source": [
        "train['label'].nunique()"
      ]
    },
    {
      "cell_type": "code",
      "execution_count": 23,
      "id": "2133c848",
      "metadata": {
        "colab": {
          "base_uri": "https://localhost:8080/",
          "height": 235
        },
        "id": "2133c848",
        "outputId": "58f81f31-9544-4635-a3d7-aed74410f15a"
      },
      "outputs": [
        {
          "output_type": "execute_result",
          "data": {
            "text/plain": [
              "   0  1  2  3  4  5  6  7  8  9  ...  774  775  776  777  778  779  780  781  \\\n",
              "0  0  0  0  0  0  0  0  0  0  0  ...   67    0    0    0    0    0    0    0   \n",
              "1  0  0  0  0  0  0  0  1  2  0  ...    0    0    1    0    0    0    0    0   \n",
              "2  0  0  0  0  0  0  0  0  0  0  ...   93   58   78   45    0    0    0    0   \n",
              "3  0  0  0  0  0  0  0  0  0  0  ...   71    0    0    0    0    0    0    0   \n",
              "4  0  0  0  0  0  0  0  0  0  0  ...    0    0   63    0    0    0    0    0   \n",
              "\n",
              "   782  783  \n",
              "0    0    0  \n",
              "1    0    0  \n",
              "2    0    0  \n",
              "3    0    0  \n",
              "4    0    0  \n",
              "\n",
              "[5 rows x 784 columns]"
            ],
            "text/html": [
              "\n",
              "  <div id=\"df-bdf8d500-d8ad-4203-84ab-12cca0322057\">\n",
              "    <div class=\"colab-df-container\">\n",
              "      <div>\n",
              "<style scoped>\n",
              "    .dataframe tbody tr th:only-of-type {\n",
              "        vertical-align: middle;\n",
              "    }\n",
              "\n",
              "    .dataframe tbody tr th {\n",
              "        vertical-align: top;\n",
              "    }\n",
              "\n",
              "    .dataframe thead th {\n",
              "        text-align: right;\n",
              "    }\n",
              "</style>\n",
              "<table border=\"1\" class=\"dataframe\">\n",
              "  <thead>\n",
              "    <tr style=\"text-align: right;\">\n",
              "      <th></th>\n",
              "      <th>0</th>\n",
              "      <th>1</th>\n",
              "      <th>2</th>\n",
              "      <th>3</th>\n",
              "      <th>4</th>\n",
              "      <th>5</th>\n",
              "      <th>6</th>\n",
              "      <th>7</th>\n",
              "      <th>8</th>\n",
              "      <th>9</th>\n",
              "      <th>...</th>\n",
              "      <th>774</th>\n",
              "      <th>775</th>\n",
              "      <th>776</th>\n",
              "      <th>777</th>\n",
              "      <th>778</th>\n",
              "      <th>779</th>\n",
              "      <th>780</th>\n",
              "      <th>781</th>\n",
              "      <th>782</th>\n",
              "      <th>783</th>\n",
              "    </tr>\n",
              "  </thead>\n",
              "  <tbody>\n",
              "    <tr>\n",
              "      <th>0</th>\n",
              "      <td>0</td>\n",
              "      <td>0</td>\n",
              "      <td>0</td>\n",
              "      <td>0</td>\n",
              "      <td>0</td>\n",
              "      <td>0</td>\n",
              "      <td>0</td>\n",
              "      <td>0</td>\n",
              "      <td>0</td>\n",
              "      <td>0</td>\n",
              "      <td>...</td>\n",
              "      <td>67</td>\n",
              "      <td>0</td>\n",
              "      <td>0</td>\n",
              "      <td>0</td>\n",
              "      <td>0</td>\n",
              "      <td>0</td>\n",
              "      <td>0</td>\n",
              "      <td>0</td>\n",
              "      <td>0</td>\n",
              "      <td>0</td>\n",
              "    </tr>\n",
              "    <tr>\n",
              "      <th>1</th>\n",
              "      <td>0</td>\n",
              "      <td>0</td>\n",
              "      <td>0</td>\n",
              "      <td>0</td>\n",
              "      <td>0</td>\n",
              "      <td>0</td>\n",
              "      <td>0</td>\n",
              "      <td>1</td>\n",
              "      <td>2</td>\n",
              "      <td>0</td>\n",
              "      <td>...</td>\n",
              "      <td>0</td>\n",
              "      <td>0</td>\n",
              "      <td>1</td>\n",
              "      <td>0</td>\n",
              "      <td>0</td>\n",
              "      <td>0</td>\n",
              "      <td>0</td>\n",
              "      <td>0</td>\n",
              "      <td>0</td>\n",
              "      <td>0</td>\n",
              "    </tr>\n",
              "    <tr>\n",
              "      <th>2</th>\n",
              "      <td>0</td>\n",
              "      <td>0</td>\n",
              "      <td>0</td>\n",
              "      <td>0</td>\n",
              "      <td>0</td>\n",
              "      <td>0</td>\n",
              "      <td>0</td>\n",
              "      <td>0</td>\n",
              "      <td>0</td>\n",
              "      <td>0</td>\n",
              "      <td>...</td>\n",
              "      <td>93</td>\n",
              "      <td>58</td>\n",
              "      <td>78</td>\n",
              "      <td>45</td>\n",
              "      <td>0</td>\n",
              "      <td>0</td>\n",
              "      <td>0</td>\n",
              "      <td>0</td>\n",
              "      <td>0</td>\n",
              "      <td>0</td>\n",
              "    </tr>\n",
              "    <tr>\n",
              "      <th>3</th>\n",
              "      <td>0</td>\n",
              "      <td>0</td>\n",
              "      <td>0</td>\n",
              "      <td>0</td>\n",
              "      <td>0</td>\n",
              "      <td>0</td>\n",
              "      <td>0</td>\n",
              "      <td>0</td>\n",
              "      <td>0</td>\n",
              "      <td>0</td>\n",
              "      <td>...</td>\n",
              "      <td>71</td>\n",
              "      <td>0</td>\n",
              "      <td>0</td>\n",
              "      <td>0</td>\n",
              "      <td>0</td>\n",
              "      <td>0</td>\n",
              "      <td>0</td>\n",
              "      <td>0</td>\n",
              "      <td>0</td>\n",
              "      <td>0</td>\n",
              "    </tr>\n",
              "    <tr>\n",
              "      <th>4</th>\n",
              "      <td>0</td>\n",
              "      <td>0</td>\n",
              "      <td>0</td>\n",
              "      <td>0</td>\n",
              "      <td>0</td>\n",
              "      <td>0</td>\n",
              "      <td>0</td>\n",
              "      <td>0</td>\n",
              "      <td>0</td>\n",
              "      <td>0</td>\n",
              "      <td>...</td>\n",
              "      <td>0</td>\n",
              "      <td>0</td>\n",
              "      <td>63</td>\n",
              "      <td>0</td>\n",
              "      <td>0</td>\n",
              "      <td>0</td>\n",
              "      <td>0</td>\n",
              "      <td>0</td>\n",
              "      <td>0</td>\n",
              "      <td>0</td>\n",
              "    </tr>\n",
              "  </tbody>\n",
              "</table>\n",
              "<p>5 rows × 784 columns</p>\n",
              "</div>\n",
              "      <button class=\"colab-df-convert\" onclick=\"convertToInteractive('df-bdf8d500-d8ad-4203-84ab-12cca0322057')\"\n",
              "              title=\"Convert this dataframe to an interactive table.\"\n",
              "              style=\"display:none;\">\n",
              "        \n",
              "  <svg xmlns=\"http://www.w3.org/2000/svg\" height=\"24px\"viewBox=\"0 0 24 24\"\n",
              "       width=\"24px\">\n",
              "    <path d=\"M0 0h24v24H0V0z\" fill=\"none\"/>\n",
              "    <path d=\"M18.56 5.44l.94 2.06.94-2.06 2.06-.94-2.06-.94-.94-2.06-.94 2.06-2.06.94zm-11 1L8.5 8.5l.94-2.06 2.06-.94-2.06-.94L8.5 2.5l-.94 2.06-2.06.94zm10 10l.94 2.06.94-2.06 2.06-.94-2.06-.94-.94-2.06-.94 2.06-2.06.94z\"/><path d=\"M17.41 7.96l-1.37-1.37c-.4-.4-.92-.59-1.43-.59-.52 0-1.04.2-1.43.59L10.3 9.45l-7.72 7.72c-.78.78-.78 2.05 0 2.83L4 21.41c.39.39.9.59 1.41.59.51 0 1.02-.2 1.41-.59l7.78-7.78 2.81-2.81c.8-.78.8-2.07 0-2.86zM5.41 20L4 18.59l7.72-7.72 1.47 1.35L5.41 20z\"/>\n",
              "  </svg>\n",
              "      </button>\n",
              "      \n",
              "  <style>\n",
              "    .colab-df-container {\n",
              "      display:flex;\n",
              "      flex-wrap:wrap;\n",
              "      gap: 12px;\n",
              "    }\n",
              "\n",
              "    .colab-df-convert {\n",
              "      background-color: #E8F0FE;\n",
              "      border: none;\n",
              "      border-radius: 50%;\n",
              "      cursor: pointer;\n",
              "      display: none;\n",
              "      fill: #1967D2;\n",
              "      height: 32px;\n",
              "      padding: 0 0 0 0;\n",
              "      width: 32px;\n",
              "    }\n",
              "\n",
              "    .colab-df-convert:hover {\n",
              "      background-color: #E2EBFA;\n",
              "      box-shadow: 0px 1px 2px rgba(60, 64, 67, 0.3), 0px 1px 3px 1px rgba(60, 64, 67, 0.15);\n",
              "      fill: #174EA6;\n",
              "    }\n",
              "\n",
              "    [theme=dark] .colab-df-convert {\n",
              "      background-color: #3B4455;\n",
              "      fill: #D2E3FC;\n",
              "    }\n",
              "\n",
              "    [theme=dark] .colab-df-convert:hover {\n",
              "      background-color: #434B5C;\n",
              "      box-shadow: 0px 1px 3px 1px rgba(0, 0, 0, 0.15);\n",
              "      filter: drop-shadow(0px 1px 2px rgba(0, 0, 0, 0.3));\n",
              "      fill: #FFFFFF;\n",
              "    }\n",
              "  </style>\n",
              "\n",
              "      <script>\n",
              "        const buttonEl =\n",
              "          document.querySelector('#df-bdf8d500-d8ad-4203-84ab-12cca0322057 button.colab-df-convert');\n",
              "        buttonEl.style.display =\n",
              "          google.colab.kernel.accessAllowed ? 'block' : 'none';\n",
              "\n",
              "        async function convertToInteractive(key) {\n",
              "          const element = document.querySelector('#df-bdf8d500-d8ad-4203-84ab-12cca0322057');\n",
              "          const dataTable =\n",
              "            await google.colab.kernel.invokeFunction('convertToInteractive',\n",
              "                                                     [key], {});\n",
              "          if (!dataTable) return;\n",
              "\n",
              "          const docLinkHtml = 'Like what you see? Visit the ' +\n",
              "            '<a target=\"_blank\" href=https://colab.research.google.com/notebooks/data_table.ipynb>data table notebook</a>'\n",
              "            + ' to learn more about interactive tables.';\n",
              "          element.innerHTML = '';\n",
              "          dataTable['output_type'] = 'display_data';\n",
              "          await google.colab.output.renderOutput(dataTable, element);\n",
              "          const docLink = document.createElement('div');\n",
              "          docLink.innerHTML = docLinkHtml;\n",
              "          element.appendChild(docLink);\n",
              "        }\n",
              "      </script>\n",
              "    </div>\n",
              "  </div>\n",
              "  "
            ]
          },
          "metadata": {},
          "execution_count": 23
        }
      ],
      "source": [
        "test.head()"
      ]
    },
    {
      "cell_type": "code",
      "execution_count": 24,
      "id": "35dc5b73",
      "metadata": {
        "id": "35dc5b73"
      },
      "outputs": [],
      "source": [
        "X = train.iloc[:, :-1].values\n",
        "X = X.reshape(-1,28, 28,1) # 흑백이기 때문에 채널이 1\n",
        "y = train.iloc[:, -1].values"
      ]
    },
    {
      "cell_type": "code",
      "execution_count": 25,
      "id": "26c6d257",
      "metadata": {
        "colab": {
          "base_uri": "https://localhost:8080/",
          "height": 94
        },
        "id": "26c6d257",
        "outputId": "c884daa2-2dca-43f2-d8e5-f8c749b3b092"
      },
      "outputs": [
        {
          "output_type": "display_data",
          "data": {
            "text/plain": [
              "<Figure size 1440x72 with 20 Axes>"
            ],
            "image/png": "[encoded data removed]"
          },
          "metadata": {
            "needs_background": "light"
          }
        }
      ],
      "source": [
        "pltsize = 1\n",
        "plt.figure(figsize=(20 * pltsize, pltsize))\n",
        "for idx in range(0, 20):\n",
        "  plt.subplot(1, 20, idx + 1)\n",
        "  plt.axis('off')\n",
        "  plt.imshow(X[idx].reshape(28, 28), cmap='gray_r')\n",
        "  plt.title(f'Class : {y[idx]}')"
      ]
    },
    {
      "cell_type": "code",
      "execution_count": 26,
      "id": "dbb3b988",
      "metadata": {
        "id": "dbb3b988"
      },
      "outputs": [],
      "source": [
        "X_test = test.values\n",
        "X_test = X_test.reshape(-1,28, 28,1)"
      ]
    },
    {
      "cell_type": "code",
      "execution_count": 27,
      "id": "9d06175b",
      "metadata": {
        "colab": {
          "base_uri": "https://localhost:8080/",
          "height": 78
        },
        "id": "9d06175b",
        "outputId": "75135500-4aca-471b-978e-29b04b038987"
      },
      "outputs": [
        {
          "output_type": "display_data",
          "data": {
            "text/plain": [
              "<Figure size 1440x72 with 20 Axes>"
            ],
            "image/png": "[encoded data removed]"
          },
          "metadata": {
            "needs_background": "light"
          }
        }
      ],
      "source": [
        "pltsize = 1\n",
        "plt.figure(figsize=(20 * pltsize, pltsize))\n",
        "for idx in range(0, 20):\n",
        "  plt.subplot(1, 20, idx + 1)\n",
        "  plt.axis('off')\n",
        "  plt.imshow(X_test[idx].reshape(28, 28), cmap='gray_r')"
      ]
    },
    {
      "cell_type": "markdown",
      "id": "c2df1b99",
      "metadata": {
        "id": "c2df1b99"
      },
      "source": [
        "### Train-Test Split"
      ]
    },
    {
      "cell_type": "code",
      "execution_count": 28,
      "id": "7b16076f",
      "metadata": {
        "id": "7b16076f"
      },
      "outputs": [],
      "source": [
        "from sklearn.model_selection import train_test_split\n",
        "\n",
        "X_train, X_val, y_train, y_val = train_test_split(X, y, test_size = 0.2, random_state = 16, stratify = y, shuffle = True)\n",
        "\n",
        "# 정규화\n",
        "X_train = X_train / 255.0\n",
        "X_val = X_val / 255.0\n",
        "X_test = X_test / 255.0"
      ]
    },
    {
      "cell_type": "markdown",
      "source": [
        "# Simple DNN"
      ],
      "metadata": {
        "id": "Ebpeis7_oMij"
      },
      "id": "Ebpeis7_oMij"
    },
    {
      "cell_type": "code",
      "source": [
        "BATCH_SIZE = 128\n",
        "EPOCHS = 15"
      ],
      "metadata": {
        "id": "JGTs6HoqnkUS"
      },
      "id": "JGTs6HoqnkUS",
      "execution_count": 29,
      "outputs": []
    },
    {
      "cell_type": "code",
      "source": [
        "model = keras.Sequential([\n",
        "    keras.layers.Flatten(input_shape=(28, 28)),\n",
        "    keras.layers.Dense(512, activation='linear'),\n",
        "    keras.layers.Dense(256, activation='linear'),\n",
        "    keras.layers.Dense(128, activation='linear'),\n",
        "    keras.layers.Dense(10, activation='softmax')\n",
        "])\n",
        "\n",
        "print(model.summary())"
      ],
      "metadata": {
        "colab": {
          "base_uri": "https://localhost:8080/"
        },
        "id": "o2XzHDEIv8a2",
        "outputId": "a1a3d325-9359-4a92-91bf-466a210c3862"
      },
      "id": "o2XzHDEIv8a2",
      "execution_count": 30,
      "outputs": [
        {
          "output_type": "stream",
          "name": "stdout",
          "text": [
            "Model: \"sequential_4\"\n",
            "_________________________________________________________________\n",
            " Layer (type)                Output Shape              Param #   \n",
            "=================================================================\n",
            " flatten_4 (Flatten)         (None, 784)               0         \n",
            "                                                                 \n",
            " dense_16 (Dense)            (None, 512)               401920    \n",
            "                                                                 \n",
            " dense_17 (Dense)            (None, 256)               131328    \n",
            "                                                                 \n",
            " dense_18 (Dense)            (None, 128)               32896     \n",
            "                                                                 \n",
            " dense_19 (Dense)            (None, 10)                1290      \n",
            "                                                                 \n",
            "=================================================================\n",
            "Total params: 567,434\n",
            "Trainable params: 567,434\n",
            "Non-trainable params: 0\n",
            "_________________________________________________________________\n",
            "None\n"
          ]
        }
      ]
    },
    {
      "cell_type": "code",
      "source": [
        "optimizer = keras.optimizers.SGD(lr=0.01, momentum=0.5)\n",
        "model.compile(optimizer=optimizer,\n",
        "              loss=tf.keras.losses.SparseCategoricalCrossentropy(from_logits=True),\n",
        "              metrics=['accuracy'])"
      ],
      "metadata": {
        "id": "KYyMv8CnsygJ"
      },
      "id": "KYyMv8CnsygJ",
      "execution_count": 31,
      "outputs": []
    },
    {
      "cell_type": "code",
      "source": [
        "result = model.fit(X_train, y_train, epochs=10, validation_data = (X_val, y_val))"
      ],
      "metadata": {
        "colab": {
          "base_uri": "https://localhost:8080/"
        },
        "id": "txNx5Lu5s5Ux",
        "outputId": "e3fb9e8c-9fcc-464a-b9c6-0a086740849d"
      },
      "id": "txNx5Lu5s5Ux",
      "execution_count": 32,
      "outputs": [
        {
          "output_type": "stream",
          "name": "stdout",
          "text": [
            "Epoch 1/10\n",
            "1488/1488 [==============================] - 7s 4ms/step - loss: 0.5743 - accuracy: 0.7976 - val_loss: 0.4793 - val_accuracy: 0.8303\n",
            "Epoch 2/10\n",
            "1488/1488 [==============================] - 5s 3ms/step - loss: 0.4731 - accuracy: 0.8333 - val_loss: 0.4704 - val_accuracy: 0.8363\n",
            "Epoch 3/10\n",
            "1488/1488 [==============================] - 5s 4ms/step - loss: 0.4541 - accuracy: 0.8403 - val_loss: 0.4413 - val_accuracy: 0.8441\n",
            "Epoch 4/10\n",
            "1488/1488 [==============================] - 5s 3ms/step - loss: 0.4429 - accuracy: 0.8436 - val_loss: 0.4432 - val_accuracy: 0.8441\n",
            "Epoch 5/10\n",
            "1488/1488 [==============================] - 5s 3ms/step - loss: 0.4365 - accuracy: 0.8471 - val_loss: 0.4826 - val_accuracy: 0.8331\n",
            "Epoch 6/10\n",
            "1488/1488 [==============================] - 5s 3ms/step - loss: 0.4309 - accuracy: 0.8491 - val_loss: 0.4455 - val_accuracy: 0.8430\n",
            "Epoch 7/10\n",
            "1488/1488 [==============================] - 5s 3ms/step - loss: 0.4258 - accuracy: 0.8495 - val_loss: 0.4201 - val_accuracy: 0.8538\n",
            "Epoch 8/10\n",
            "1488/1488 [==============================] - 5s 3ms/step - loss: 0.4217 - accuracy: 0.8505 - val_loss: 0.4352 - val_accuracy: 0.8467\n",
            "Epoch 9/10\n",
            "1488/1488 [==============================] - 5s 3ms/step - loss: 0.4174 - accuracy: 0.8538 - val_loss: 0.4443 - val_accuracy: 0.8517\n",
            "Epoch 10/10\n",
            "1488/1488 [==============================] - 5s 3ms/step - loss: 0.4146 - accuracy: 0.8532 - val_loss: 0.4356 - val_accuracy: 0.8457\n"
          ]
        }
      ]
    },
    {
      "cell_type": "code",
      "source": [
        "fig, axes = plt.subplots(nrows=1, ncols=2, figsize=(15, 5))\n",
        "\n",
        "axes[0].plot(result.epoch, result.history[\"loss\"], label='Train Loss')\n",
        "axes[0].plot(result.epoch, result.history['val_loss'], label='Val Loss')\n",
        "axes[0].set_ylim(0.0, 1)\n",
        "axes[0].legend()\n",
        "axes[0].set_title('Loss')\n",
        "\n",
        "axes[1].plot(result.epoch, result.history['accuracy'], label='Train Accuracy')\n",
        "axes[1].plot(result.epoch, result.history['val_accuracy'], label='Val Accuracy')\n",
        "axes[1].set_ylim(0.7, 1)\n",
        "axes[1].legend()\n",
        "axes[1].set_title('ACC')\n",
        "\n",
        "plt.show()"
      ],
      "metadata": {
        "colab": {
          "base_uri": "https://localhost:8080/",
          "height": 336
        },
        "id": "xDXKtXMnuJYi",
        "outputId": "4f02653f-6eaa-46ef-ac67-c6cb41e2b856"
      },
      "id": "xDXKtXMnuJYi",
      "execution_count": 33,
      "outputs": [
        {
          "output_type": "display_data",
          "data": {
            "text/plain": [
              "<Figure size 1080x360 with 2 Axes>"
            ],
            "image/png": "[encoded data removed]"
          },
          "metadata": {
            "needs_background": "light"
          }
        }
      ]
    },
    {
      "cell_type": "markdown",
      "source": [
        "# Activation Function"
      ],
      "metadata": {
        "id": "rPme7PVhxeFQ"
      },
      "id": "rPme7PVhxeFQ"
    },
    {
      "cell_type": "code",
      "source": [
        "model = keras.Sequential([\n",
        "    keras.layers.Flatten(input_shape=(28, 28)),\n",
        "    keras.layers.Dense(512, activation='relu'),\n",
        "    keras.layers.Dense(256, activation='relu'),\n",
        "    keras.layers.Dense(128, activation='relu'),\n",
        "    keras.layers.Dense(10, activation='softmax')\n",
        "])\n",
        "\n",
        "print(model.summary())"
      ],
      "metadata": {
        "colab": {
          "base_uri": "https://localhost:8080/"
        },
        "id": "CD6OGIumxwiE",
        "outputId": "023a3465-c409-4e1c-ecd4-e3d3684d6ac1"
      },
      "id": "CD6OGIumxwiE",
      "execution_count": 34,
      "outputs": [
        {
          "output_type": "stream",
          "name": "stdout",
          "text": [
            "Model: \"sequential_5\"\n",
            "_________________________________________________________________\n",
            " Layer (type)                Output Shape              Param #   \n",
            "=================================================================\n",
            " flatten_5 (Flatten)         (None, 784)               0         \n",
            "                                                                 \n",
            " dense_20 (Dense)            (None, 512)               401920    \n",
            "                                                                 \n",
            " dense_21 (Dense)            (None, 256)               131328    \n",
            "                                                                 \n",
            " dense_22 (Dense)            (None, 128)               32896     \n",
            "                                                                 \n",
            " dense_23 (Dense)            (None, 10)                1290      \n",
            "                                                                 \n",
            "=================================================================\n",
            "Total params: 567,434\n",
            "Trainable params: 567,434\n",
            "Non-trainable params: 0\n",
            "_________________________________________________________________\n",
            "None\n"
          ]
        }
      ]
    },
    {
      "cell_type": "code",
      "source": [
        "optimizer = keras.optimizers.SGD(lr=0.01, momentum=0.5)\n",
        "model.compile(optimizer=optimizer,\n",
        "              loss=tf.keras.losses.SparseCategoricalCrossentropy(from_logits=True),\n",
        "              metrics=['accuracy'])"
      ],
      "metadata": {
        "id": "WNTFI3PIxwki"
      },
      "id": "WNTFI3PIxwki",
      "execution_count": 35,
      "outputs": []
    },
    {
      "cell_type": "code",
      "source": [
        "result = model.fit(X_train, y_train, epochs=10, validation_data = (X_val, y_val))"
      ],
      "metadata": {
        "colab": {
          "base_uri": "https://localhost:8080/"
        },
        "id": "6Ky3o4sLzfDu",
        "outputId": "fb70e27c-45ae-48f6-edee-c4f28178b146"
      },
      "id": "6Ky3o4sLzfDu",
      "execution_count": 36,
      "outputs": [
        {
          "output_type": "stream",
          "name": "stdout",
          "text": [
            "Epoch 1/10\n",
            "1488/1488 [==============================] - 5s 3ms/step - loss: 0.6341 - accuracy: 0.7832 - val_loss: 0.5007 - val_accuracy: 0.8138\n",
            "Epoch 2/10\n",
            "1488/1488 [==============================] - 5s 3ms/step - loss: 0.4409 - accuracy: 0.8414 - val_loss: 0.3945 - val_accuracy: 0.8631\n",
            "Epoch 3/10\n",
            "1488/1488 [==============================] - 6s 4ms/step - loss: 0.3956 - accuracy: 0.8576 - val_loss: 0.3889 - val_accuracy: 0.8607\n",
            "Epoch 4/10\n",
            "1488/1488 [==============================] - 5s 3ms/step - loss: 0.3657 - accuracy: 0.8663 - val_loss: 0.3527 - val_accuracy: 0.8742\n",
            "Epoch 5/10\n",
            "1488/1488 [==============================] - 5s 3ms/step - loss: 0.3440 - accuracy: 0.8743 - val_loss: 0.3431 - val_accuracy: 0.8753\n",
            "Epoch 6/10\n",
            "1488/1488 [==============================] - 5s 3ms/step - loss: 0.3264 - accuracy: 0.8794 - val_loss: 0.3564 - val_accuracy: 0.8705\n",
            "Epoch 7/10\n",
            "1488/1488 [==============================] - 5s 3ms/step - loss: 0.3115 - accuracy: 0.8851 - val_loss: 0.3325 - val_accuracy: 0.8805\n",
            "Epoch 8/10\n",
            "1488/1488 [==============================] - 5s 3ms/step - loss: 0.2977 - accuracy: 0.8905 - val_loss: 0.3240 - val_accuracy: 0.8815\n",
            "Epoch 9/10\n",
            "1488/1488 [==============================] - 6s 4ms/step - loss: 0.2849 - accuracy: 0.8948 - val_loss: 0.3304 - val_accuracy: 0.8803\n",
            "Epoch 10/10\n",
            "1488/1488 [==============================] - 5s 3ms/step - loss: 0.2751 - accuracy: 0.8971 - val_loss: 0.3343 - val_accuracy: 0.8750\n"
          ]
        }
      ]
    },
    {
      "cell_type": "code",
      "source": [
        "fig, axes = plt.subplots(nrows=1, ncols=2, figsize=(15, 5))\n",
        "\n",
        "axes[0].plot(result.epoch, result.history[\"loss\"], label='Train Loss')\n",
        "axes[0].plot(result.epoch, result.history['val_loss'], label='Val Loss')\n",
        "axes[0].set_ylim(0.0, 1)\n",
        "axes[0].legend()\n",
        "axes[0].set_title('Loss')\n",
        "\n",
        "axes[1].plot(result.epoch, result.history['accuracy'], label='Train Accuracy')\n",
        "axes[1].plot(result.epoch, result.history['val_accuracy'], label='Val Accuracy')\n",
        "axes[1].set_ylim(0.7, 1)\n",
        "axes[1].legend()\n",
        "axes[1].set_title('ACC')\n",
        "\n",
        "plt.show()"
      ],
      "metadata": {
        "colab": {
          "base_uri": "https://localhost:8080/",
          "height": 336
        },
        "id": "ANDkH1m1zq-O",
        "outputId": "e9c255a3-75d6-4f84-ef7c-f921cfb3e620"
      },
      "id": "ANDkH1m1zq-O",
      "execution_count": 37,
      "outputs": [
        {
          "output_type": "display_data",
          "data": {
            "text/plain": [
              "<Figure size 1080x360 with 2 Axes>"
            ],
            "image/png": "[encoded data removed]"
          },
          "metadata": {
            "needs_background": "light"
          }
        }
      ]
    },
    {
      "cell_type": "markdown",
      "source": [
        "# Weight Initialization"
      ],
      "metadata": {
        "id": "6c39Q0eVzx1A"
      },
      "id": "6c39Q0eVzx1A"
    },
    {
      "cell_type": "markdown",
      "source": [
        "ReLU + He = 고른 분포<br>\n",
        "고른 분포 -> 모델이 다양성을 가지게 됨(가중치가 다양하고 표현력 좋음)"
      ],
      "metadata": {
        "id": "QiRSZwui0dxj"
      },
      "id": "QiRSZwui0dxj"
    },
    {
      "cell_type": "code",
      "source": [
        "initializer = keras.initializers.HeUniform(seed = 21)\n",
        "model = keras.Sequential([\n",
        "    keras.layers.Flatten(input_shape=(28, 28)),\n",
        "    keras.layers.Dense(512, activation='relu', kernel_initializer=initializer),\n",
        "    keras.layers.Dense(256, activation='relu', kernel_initializer=initializer),\n",
        "    keras.layers.Dense(128, activation='relu', kernel_initializer=initializer),\n",
        "    keras.layers.Dense(10, activation='softmax', kernel_initializer=initializer)\n",
        "])\n",
        "\n",
        "print(model.summary())"
      ],
      "metadata": {
        "colab": {
          "base_uri": "https://localhost:8080/"
        },
        "id": "OCGFWMvQzxg0",
        "outputId": "836eddf9-edc5-468e-c49c-dff1e493b855"
      },
      "id": "OCGFWMvQzxg0",
      "execution_count": 38,
      "outputs": [
        {
          "output_type": "stream",
          "name": "stdout",
          "text": [
            "Model: \"sequential_6\"\n",
            "_________________________________________________________________\n",
            " Layer (type)                Output Shape              Param #   \n",
            "=================================================================\n",
            " flatten_6 (Flatten)         (None, 784)               0         \n",
            "                                                                 \n",
            " dense_24 (Dense)            (None, 512)               401920    \n",
            "                                                                 \n",
            " dense_25 (Dense)            (None, 256)               131328    \n",
            "                                                                 \n",
            " dense_26 (Dense)            (None, 128)               32896     \n",
            "                                                                 \n",
            " dense_27 (Dense)            (None, 10)                1290      \n",
            "                                                                 \n",
            "=================================================================\n",
            "Total params: 567,434\n",
            "Trainable params: 567,434\n",
            "Non-trainable params: 0\n",
            "_________________________________________________________________\n",
            "None\n"
          ]
        }
      ]
    },
    {
      "cell_type": "code",
      "source": [
        "optimizer = keras.optimizers.SGD(lr=0.01, momentum=0.5)\n",
        "model.compile(optimizer=optimizer,\n",
        "              loss=tf.keras.losses.SparseCategoricalCrossentropy(from_logits=True),\n",
        "              metrics=['accuracy'])"
      ],
      "metadata": {
        "id": "aqwNAEMv0J0O"
      },
      "id": "aqwNAEMv0J0O",
      "execution_count": 39,
      "outputs": []
    },
    {
      "cell_type": "code",
      "source": [
        "result = model.fit(X_train, y_train, epochs=10, validation_data = (X_val, y_val))"
      ],
      "metadata": {
        "colab": {
          "base_uri": "https://localhost:8080/"
        },
        "id": "2d3mncWV0LLP",
        "outputId": "1029768e-fc17-42c6-8e06-3b2d4785ed70"
      },
      "id": "2d3mncWV0LLP",
      "execution_count": 40,
      "outputs": [
        {
          "output_type": "stream",
          "name": "stdout",
          "text": [
            "Epoch 1/10\n",
            "1488/1488 [==============================] - 6s 4ms/step - loss: 0.5971 - accuracy: 0.7945 - val_loss: 0.4458 - val_accuracy: 0.8418\n",
            "Epoch 2/10\n",
            "1488/1488 [==============================] - 5s 3ms/step - loss: 0.4247 - accuracy: 0.8489 - val_loss: 0.3814 - val_accuracy: 0.8645\n",
            "Epoch 3/10\n",
            "1488/1488 [==============================] - 5s 3ms/step - loss: 0.3810 - accuracy: 0.8625 - val_loss: 0.3605 - val_accuracy: 0.8713\n",
            "Epoch 4/10\n",
            "1488/1488 [==============================] - 5s 3ms/step - loss: 0.3538 - accuracy: 0.8713 - val_loss: 0.3412 - val_accuracy: 0.8776\n",
            "Epoch 5/10\n",
            "1488/1488 [==============================] - 5s 3ms/step - loss: 0.3334 - accuracy: 0.8771 - val_loss: 0.3581 - val_accuracy: 0.8683\n",
            "Epoch 6/10\n",
            "1488/1488 [==============================] - 5s 4ms/step - loss: 0.3129 - accuracy: 0.8855 - val_loss: 0.3300 - val_accuracy: 0.8812\n",
            "Epoch 7/10\n",
            "1488/1488 [==============================] - 5s 3ms/step - loss: 0.2976 - accuracy: 0.8904 - val_loss: 0.3554 - val_accuracy: 0.8741\n",
            "Epoch 8/10\n",
            "1488/1488 [==============================] - 5s 3ms/step - loss: 0.2856 - accuracy: 0.8937 - val_loss: 0.3169 - val_accuracy: 0.8850\n",
            "Epoch 9/10\n",
            "1488/1488 [==============================] - 5s 4ms/step - loss: 0.2727 - accuracy: 0.8997 - val_loss: 0.2944 - val_accuracy: 0.8945\n",
            "Epoch 10/10\n",
            "1488/1488 [==============================] - 7s 5ms/step - loss: 0.2629 - accuracy: 0.9014 - val_loss: 0.3149 - val_accuracy: 0.8851\n"
          ]
        }
      ]
    },
    {
      "cell_type": "code",
      "source": [
        "fig, axes = plt.subplots(nrows=1, ncols=2, figsize=(15, 5))\n",
        "\n",
        "axes[0].plot(result.epoch, result.history[\"loss\"], label='Train Loss')\n",
        "axes[0].plot(result.epoch, result.history['val_loss'], label='Val Loss')\n",
        "axes[0].set_ylim(0.0, 1)\n",
        "axes[0].legend()\n",
        "axes[0].set_title('Loss')\n",
        "\n",
        "axes[1].plot(result.epoch, result.history['accuracy'], label='Train Accuracy')\n",
        "axes[1].plot(result.epoch, result.history['val_accuracy'], label='Val Accuracy')\n",
        "axes[1].set_ylim(0.7, 1)\n",
        "axes[1].legend()\n",
        "axes[1].set_title('ACC')\n",
        "\n",
        "plt.show()"
      ],
      "metadata": {
        "colab": {
          "base_uri": "https://localhost:8080/",
          "height": 336
        },
        "id": "iq8e47sq0MsQ",
        "outputId": "4f075edb-7654-4a25-ca74-b8bb60696a4c"
      },
      "id": "iq8e47sq0MsQ",
      "execution_count": 41,
      "outputs": [
        {
          "output_type": "display_data",
          "data": {
            "text/plain": [
              "<Figure size 1080x360 with 2 Axes>"
            ],
            "image/png": "[encoded data removed]"
          },
          "metadata": {
            "needs_background": "light"
          }
        }
      ]
    },
    {
      "cell_type": "markdown",
      "source": [
        "# Batch Normalization"
      ],
      "metadata": {
        "id": "xXBFR-aq0NhZ"
      },
      "id": "xXBFR-aq0NhZ"
    },
    {
      "cell_type": "markdown",
      "source": [
        "평균 0, 분산 1로 Nornalize 하여 Internal Covariance Shift 해결<br>\n",
        "- Internal Covariance Shift : Network의 각 층이나 Activation 마다 Input의 Distribution이 달라지는 현상\n",
        "- 층마다 일정 하지 않았던 Data의 분포를\n",
        "일정하게 만들어줌\n",
        "- 가중치를 고르게 분포 시키는 것과 비슷\n",
        "- 기울기 소실 / 팽창 방지\n",
        "- 학습 시 가중치 초기값에 크게 의존하지 않게 해줌\n",
        "- 결과적으로 학습 개선\n"
      ],
      "metadata": {
        "id": "IkafJ_lg0_LP"
      },
      "id": "IkafJ_lg0_LP"
    },
    {
      "cell_type": "code",
      "source": [
        "initializer = keras.initializers.HeUniform(seed = 21)\n",
        "model = keras.Sequential([\n",
        "    keras.layers.Flatten(input_shape=(28, 28)),\n",
        "    keras.layers.Dense(512, kernel_initializer=initializer),\n",
        "    keras.layers.BatchNormalization(),\n",
        "    keras.layers.Activation('relu'),\n",
        "    keras.layers.Dense(256, kernel_initializer=initializer),\n",
        "    keras.layers.BatchNormalization(),\n",
        "    keras.layers.Activation('relu'),\n",
        "    keras.layers.Dense(128, kernel_initializer=initializer),\n",
        "    keras.layers.BatchNormalization(),\n",
        "    keras.layers.Activation('relu'),\n",
        "    keras.layers.Dense(10, activation='softmax', kernel_initializer=initializer)\n",
        "])\n",
        "\n",
        "print(model.summary())"
      ],
      "metadata": {
        "colab": {
          "base_uri": "https://localhost:8080/"
        },
        "id": "ungsoTUg0OdZ",
        "outputId": "709963ea-b9f7-45aa-de30-c549afdd65e1"
      },
      "id": "ungsoTUg0OdZ",
      "execution_count": 42,
      "outputs": [
        {
          "output_type": "stream",
          "name": "stdout",
          "text": [
            "Model: \"sequential_7\"\n",
            "_________________________________________________________________\n",
            " Layer (type)                Output Shape              Param #   \n",
            "=================================================================\n",
            " flatten_7 (Flatten)         (None, 784)               0         \n",
            "                                                                 \n",
            " dense_28 (Dense)            (None, 512)               401920    \n",
            "                                                                 \n",
            " batch_normalization_16 (Bat  (None, 512)              2048      \n",
            " chNormalization)                                                \n",
            "                                                                 \n",
            " activation (Activation)     (None, 512)               0         \n",
            "                                                                 \n",
            " dense_29 (Dense)            (None, 256)               131328    \n",
            "                                                                 \n",
            " batch_normalization_17 (Bat  (None, 256)              1024      \n",
            " chNormalization)                                                \n",
            "                                                                 \n",
            " activation_1 (Activation)   (None, 256)               0         \n",
            "                                                                 \n",
            " dense_30 (Dense)            (None, 128)               32896     \n",
            "                                                                 \n",
            " batch_normalization_18 (Bat  (None, 128)              512       \n",
            " chNormalization)                                                \n",
            "                                                                 \n",
            " activation_2 (Activation)   (None, 128)               0         \n",
            "                                                                 \n",
            " dense_31 (Dense)            (None, 10)                1290      \n",
            "                                                                 \n",
            "=================================================================\n",
            "Total params: 571,018\n",
            "Trainable params: 569,226\n",
            "Non-trainable params: 1,792\n",
            "_________________________________________________________________\n",
            "None\n"
          ]
        }
      ]
    },
    {
      "cell_type": "code",
      "source": [
        "optimizer = keras.optimizers.SGD(lr=0.01, momentum=0.5)\n",
        "model.compile(optimizer=optimizer,\n",
        "              loss=tf.keras.losses.SparseCategoricalCrossentropy(from_logits=True),\n",
        "              metrics=['accuracy'])"
      ],
      "metadata": {
        "id": "QuOp5D3J1mlF"
      },
      "id": "QuOp5D3J1mlF",
      "execution_count": 43,
      "outputs": []
    },
    {
      "cell_type": "code",
      "source": [
        "result = model.fit(X_train, y_train, epochs=10, validation_data = (X_val, y_val))"
      ],
      "metadata": {
        "colab": {
          "base_uri": "https://localhost:8080/"
        },
        "id": "7g9BY7bF1oz5",
        "outputId": "427a77d1-56ab-43c3-923f-22f99d3059e3"
      },
      "id": "7g9BY7bF1oz5",
      "execution_count": 44,
      "outputs": [
        {
          "output_type": "stream",
          "name": "stdout",
          "text": [
            "Epoch 1/10\n",
            "1488/1488 [==============================] - 14s 8ms/step - loss: 0.5300 - accuracy: 0.8152 - val_loss: 0.3877 - val_accuracy: 0.8567\n",
            "Epoch 2/10\n",
            "1488/1488 [==============================] - 12s 8ms/step - loss: 0.3794 - accuracy: 0.8634 - val_loss: 0.3417 - val_accuracy: 0.8753\n",
            "Epoch 3/10\n",
            "1488/1488 [==============================] - 11s 7ms/step - loss: 0.3335 - accuracy: 0.8784 - val_loss: 0.3395 - val_accuracy: 0.8749\n",
            "Epoch 4/10\n",
            "1488/1488 [==============================] - 9s 6ms/step - loss: 0.3025 - accuracy: 0.8897 - val_loss: 0.3149 - val_accuracy: 0.8850\n",
            "Epoch 5/10\n",
            "1488/1488 [==============================] - 9s 6ms/step - loss: 0.2757 - accuracy: 0.8994 - val_loss: 0.3112 - val_accuracy: 0.8853\n",
            "Epoch 6/10\n",
            "1488/1488 [==============================] - 7s 5ms/step - loss: 0.2540 - accuracy: 0.9081 - val_loss: 0.3222 - val_accuracy: 0.8838\n",
            "Epoch 7/10\n",
            "1488/1488 [==============================] - 8s 6ms/step - loss: 0.2353 - accuracy: 0.9140 - val_loss: 0.3229 - val_accuracy: 0.8861\n",
            "Epoch 8/10\n",
            "1488/1488 [==============================] - 7s 5ms/step - loss: 0.2208 - accuracy: 0.9196 - val_loss: 0.3306 - val_accuracy: 0.8819\n",
            "Epoch 9/10\n",
            "1488/1488 [==============================] - 9s 6ms/step - loss: 0.2050 - accuracy: 0.9262 - val_loss: 0.3317 - val_accuracy: 0.8840\n",
            "Epoch 10/10\n",
            "1488/1488 [==============================] - 7s 5ms/step - loss: 0.1938 - accuracy: 0.9300 - val_loss: 0.3110 - val_accuracy: 0.8908\n"
          ]
        }
      ]
    },
    {
      "cell_type": "code",
      "source": [
        "fig, axes = plt.subplots(nrows=1, ncols=2, figsize=(15, 5))\n",
        "\n",
        "axes[0].plot(result.epoch, result.history[\"loss\"], label='Train Loss')\n",
        "axes[0].plot(result.epoch, result.history['val_loss'], label='Val Loss')\n",
        "axes[0].set_ylim(0.0, 1)\n",
        "axes[0].legend()\n",
        "axes[0].set_title('Loss')\n",
        "\n",
        "axes[1].plot(result.epoch, result.history['accuracy'], label='Train Accuracy')\n",
        "axes[1].plot(result.epoch, result.history['val_accuracy'], label='Val Accuracy')\n",
        "axes[1].set_ylim(0.7, 1)\n",
        "axes[1].legend()\n",
        "axes[1].set_title('ACC')\n",
        "\n",
        "plt.show()"
      ],
      "metadata": {
        "colab": {
          "base_uri": "https://localhost:8080/",
          "height": 336
        },
        "id": "OXvzXl6e1rwM",
        "outputId": "e7751da4-df7e-4c30-a43d-89d699fb4a1b"
      },
      "id": "OXvzXl6e1rwM",
      "execution_count": 45,
      "outputs": [
        {
          "output_type": "display_data",
          "data": {
            "text/plain": [
              "<Figure size 1080x360 with 2 Axes>"
            ],
            "image/png": "[encoded data removed]"
          },
          "metadata": {
            "needs_background": "light"
          }
        }
      ]
    },
    {
      "cell_type": "markdown",
      "source": [
        "# Optimization"
      ],
      "metadata": {
        "id": "FTu99_JR1t7y"
      },
      "id": "FTu99_JR1t7y"
    },
    {
      "cell_type": "markdown",
      "source": [
        "최적의 파라미터를 찾아가는 것을 의미<br>\n",
        "- 방향과 스텝사이즈 업데이트를 통해 최적 찾아감\n",
        "\n",
        "<tab>\n",
        "그 방법이 여러가지 존재하지만 최근 가장 많이 쓰이고 성능이 좋은 Adam Optimizer 사용<br>\n",
        "- Adam : Momentum+RMSProp, 편향 보정"
      ],
      "metadata": {
        "id": "J22MM3zM16ed"
      },
      "id": "J22MM3zM16ed"
    },
    {
      "cell_type": "code",
      "source": [
        "initializer = keras.initializers.HeUniform(seed = 21)\n",
        "model = keras.Sequential([\n",
        "    keras.layers.Flatten(input_shape=(28, 28)),\n",
        "    keras.layers.Dense(512, kernel_initializer=initializer),\n",
        "    keras.layers.BatchNormalization(),\n",
        "    keras.layers.Activation('relu'),\n",
        "    keras.layers.Dense(256, kernel_initializer=initializer),\n",
        "    keras.layers.BatchNormalization(),\n",
        "    keras.layers.Activation('relu'),\n",
        "    keras.layers.Dense(128, kernel_initializer=initializer),\n",
        "    keras.layers.BatchNormalization(),\n",
        "    keras.layers.Activation('relu'),\n",
        "    keras.layers.Dense(10, activation='softmax', kernel_initializer=initializer)\n",
        "])\n",
        "\n",
        "print(model.summary())"
      ],
      "metadata": {
        "colab": {
          "base_uri": "https://localhost:8080/"
        },
        "id": "VgVkAb451vA4",
        "outputId": "43ec332d-23f1-4c35-e4d1-c8ae90fb4834"
      },
      "id": "VgVkAb451vA4",
      "execution_count": 46,
      "outputs": [
        {
          "output_type": "stream",
          "name": "stdout",
          "text": [
            "Model: \"sequential_8\"\n",
            "_________________________________________________________________\n",
            " Layer (type)                Output Shape              Param #   \n",
            "=================================================================\n",
            " flatten_8 (Flatten)         (None, 784)               0         \n",
            "                                                                 \n",
            " dense_32 (Dense)            (None, 512)               401920    \n",
            "                                                                 \n",
            " batch_normalization_19 (Bat  (None, 512)              2048      \n",
            " chNormalization)                                                \n",
            "                                                                 \n",
            " activation_3 (Activation)   (None, 512)               0         \n",
            "                                                                 \n",
            " dense_33 (Dense)            (None, 256)               131328    \n",
            "                                                                 \n",
            " batch_normalization_20 (Bat  (None, 256)              1024      \n",
            " chNormalization)                                                \n",
            "                                                                 \n",
            " activation_4 (Activation)   (None, 256)               0         \n",
            "                                                                 \n",
            " dense_34 (Dense)            (None, 128)               32896     \n",
            "                                                                 \n",
            " batch_normalization_21 (Bat  (None, 128)              512       \n",
            " chNormalization)                                                \n",
            "                                                                 \n",
            " activation_5 (Activation)   (None, 128)               0         \n",
            "                                                                 \n",
            " dense_35 (Dense)            (None, 10)                1290      \n",
            "                                                                 \n",
            "=================================================================\n",
            "Total params: 571,018\n",
            "Trainable params: 569,226\n",
            "Non-trainable params: 1,792\n",
            "_________________________________________________________________\n",
            "None\n"
          ]
        }
      ]
    },
    {
      "cell_type": "code",
      "source": [
        "optimizer = keras.optimizers.Adam(lr=0.01)\n",
        "model.compile(optimizer=optimizer,\n",
        "              loss=tf.keras.losses.SparseCategoricalCrossentropy(from_logits=True),\n",
        "              metrics=['accuracy'])"
      ],
      "metadata": {
        "id": "myNmVynl20k8"
      },
      "id": "myNmVynl20k8",
      "execution_count": 47,
      "outputs": []
    },
    {
      "cell_type": "code",
      "source": [
        "result = model.fit(X_train, y_train, epochs=10, validation_data = (X_val, y_val))"
      ],
      "metadata": {
        "colab": {
          "base_uri": "https://localhost:8080/"
        },
        "id": "aG0SmpYY21_3",
        "outputId": "873316c6-d73f-4dfd-9f9d-363b14c3247e"
      },
      "id": "aG0SmpYY21_3",
      "execution_count": 48,
      "outputs": [
        {
          "output_type": "stream",
          "name": "stdout",
          "text": [
            "Epoch 1/10\n",
            "1488/1488 [==============================] - 8s 5ms/step - loss: 0.5482 - accuracy: 0.8010 - val_loss: 0.4979 - val_accuracy: 0.8314\n",
            "Epoch 2/10\n",
            "1488/1488 [==============================] - 7s 5ms/step - loss: 0.4187 - accuracy: 0.8467 - val_loss: 0.3818 - val_accuracy: 0.8614\n",
            "Epoch 3/10\n",
            "1488/1488 [==============================] - 9s 6ms/step - loss: 0.3786 - accuracy: 0.8609 - val_loss: 0.3369 - val_accuracy: 0.8745\n",
            "Epoch 4/10\n",
            "1488/1488 [==============================] - 10s 6ms/step - loss: 0.3525 - accuracy: 0.8707 - val_loss: 0.3275 - val_accuracy: 0.8771\n",
            "Epoch 5/10\n",
            "1488/1488 [==============================] - 8s 5ms/step - loss: 0.3256 - accuracy: 0.8783 - val_loss: 0.3373 - val_accuracy: 0.8759\n",
            "Epoch 6/10\n",
            "1488/1488 [==============================] - 8s 5ms/step - loss: 0.3063 - accuracy: 0.8848 - val_loss: 0.3118 - val_accuracy: 0.8865\n",
            "Epoch 7/10\n",
            "1488/1488 [==============================] - 7s 5ms/step - loss: 0.2899 - accuracy: 0.8903 - val_loss: 0.4515 - val_accuracy: 0.8472\n",
            "Epoch 8/10\n",
            "1488/1488 [==============================] - 8s 5ms/step - loss: 0.2754 - accuracy: 0.8968 - val_loss: 0.3550 - val_accuracy: 0.8769\n",
            "Epoch 9/10\n",
            "1488/1488 [==============================] - 8s 5ms/step - loss: 0.2610 - accuracy: 0.9027 - val_loss: 0.3522 - val_accuracy: 0.8633\n",
            "Epoch 10/10\n",
            "1488/1488 [==============================] - 10s 6ms/step - loss: 0.2500 - accuracy: 0.9059 - val_loss: 0.3013 - val_accuracy: 0.8949\n"
          ]
        }
      ]
    },
    {
      "cell_type": "code",
      "source": [
        "fig, axes = plt.subplots(nrows=1, ncols=2, figsize=(15, 5))\n",
        "\n",
        "axes[0].plot(result.epoch, result.history[\"loss\"], label='Train Loss')\n",
        "axes[0].plot(result.epoch, result.history['val_loss'], label='Val Loss')\n",
        "axes[0].set_ylim(0.0, 1)\n",
        "axes[0].legend()\n",
        "axes[0].set_title('Loss')\n",
        "\n",
        "axes[1].plot(result.epoch, result.history['accuracy'], label='Train Accuracy')\n",
        "axes[1].plot(result.epoch, result.history['val_accuracy'], label='Val Accuracy')\n",
        "axes[1].set_ylim(0.7, 1)\n",
        "axes[1].legend()\n",
        "axes[1].set_title('ACC')\n",
        "\n",
        "plt.show()"
      ],
      "metadata": {
        "colab": {
          "base_uri": "https://localhost:8080/",
          "height": 336
        },
        "id": "43r9KliD23L7",
        "outputId": "24a34487-da90-46e7-95fb-edf813c6efac"
      },
      "id": "43r9KliD23L7",
      "execution_count": 49,
      "outputs": [
        {
          "output_type": "display_data",
          "data": {
            "text/plain": [
              "<Figure size 1080x360 with 2 Axes>"
            ],
            "image/png": "[encoded data removed]"
          },
          "metadata": {
            "needs_background": "light"
          }
        }
      ]
    },
    {
      "cell_type": "markdown",
      "source": [
        "# Dropout"
      ],
      "metadata": {
        "id": "FY9qEE5l238t"
      },
      "id": "FY9qEE5l238t"
    },
    {
      "cell_type": "markdown",
      "source": [
        "학습 시킬 때 일부러 부분 정보를 누락시키며 융통성을 기르는 방법<br>\n",
        "이를 통해 weight가 일부에 집착해 서로 동일한 특징을 추출하는 weight 동조현상을 방지할 수 있어 중요한 요소를 스스로 학습하게 함<br>\n",
        "매번 무작위로 선택하기 때문에 학습시간은 증가함\n"
      ],
      "metadata": {
        "id": "k7rgJN_g29tu"
      },
      "id": "k7rgJN_g29tu"
    },
    {
      "cell_type": "code",
      "source": [
        "initializer = keras.initializers.HeUniform(seed = 21)\n",
        "model = keras.Sequential([\n",
        "    keras.layers.Flatten(input_shape=(28, 28)),\n",
        "    keras.layers.Dense(512, kernel_initializer=initializer),\n",
        "    keras.layers.BatchNormalization(),\n",
        "    keras.layers.Activation('relu'),\n",
        "    keras.layers.Dropout(0.2),\n",
        "    keras.layers.Dense(256, kernel_initializer=initializer),\n",
        "    keras.layers.BatchNormalization(),\n",
        "    keras.layers.Activation('relu'),\n",
        "    keras.layers.Dropout(0.2),\n",
        "    keras.layers.Dense(128, kernel_initializer=initializer),\n",
        "    keras.layers.BatchNormalization(),\n",
        "    keras.layers.Activation('relu'),\n",
        "    keras.layers.Dropout(0.2),\n",
        "    keras.layers.Dense(10, activation='softmax', kernel_initializer=initializer)\n",
        "])\n",
        "\n",
        "print(model.summary())"
      ],
      "metadata": {
        "colab": {
          "base_uri": "https://localhost:8080/"
        },
        "id": "K1cTS-DR2473",
        "outputId": "fd3fb83e-f014-468a-9ed9-c9d65b61379e"
      },
      "id": "K1cTS-DR2473",
      "execution_count": 50,
      "outputs": [
        {
          "output_type": "stream",
          "name": "stdout",
          "text": [
            "Model: \"sequential_9\"\n",
            "_________________________________________________________________\n",
            " Layer (type)                Output Shape              Param #   \n",
            "=================================================================\n",
            " flatten_9 (Flatten)         (None, 784)               0         \n",
            "                                                                 \n",
            " dense_36 (Dense)            (None, 512)               401920    \n",
            "                                                                 \n",
            " batch_normalization_22 (Bat  (None, 512)              2048      \n",
            " chNormalization)                                                \n",
            "                                                                 \n",
            " activation_6 (Activation)   (None, 512)               0         \n",
            "                                                                 \n",
            " dropout_20 (Dropout)        (None, 512)               0         \n",
            "                                                                 \n",
            " dense_37 (Dense)            (None, 256)               131328    \n",
            "                                                                 \n",
            " batch_normalization_23 (Bat  (None, 256)              1024      \n",
            " chNormalization)                                                \n",
            "                                                                 \n",
            " activation_7 (Activation)   (None, 256)               0         \n",
            "                                                                 \n",
            " dropout_21 (Dropout)        (None, 256)               0         \n",
            "                                                                 \n",
            " dense_38 (Dense)            (None, 128)               32896     \n",
            "                                                                 \n",
            " batch_normalization_24 (Bat  (None, 128)              512       \n",
            " chNormalization)                                                \n",
            "                                                                 \n",
            " activation_8 (Activation)   (None, 128)               0         \n",
            "                                                                 \n",
            " dropout_22 (Dropout)        (None, 128)               0         \n",
            "                                                                 \n",
            " dense_39 (Dense)            (None, 10)                1290      \n",
            "                                                                 \n",
            "=================================================================\n",
            "Total params: 571,018\n",
            "Trainable params: 569,226\n",
            "Non-trainable params: 1,792\n",
            "_________________________________________________________________\n",
            "None\n"
          ]
        }
      ]
    },
    {
      "cell_type": "code",
      "source": [
        "optimizer = keras.optimizers.Adam(lr=0.01)\n",
        "model.compile(optimizer=optimizer,\n",
        "              loss=tf.keras.losses.SparseCategoricalCrossentropy(from_logits=True),\n",
        "              metrics=['accuracy'])"
      ],
      "metadata": {
        "id": "DrP3Zb8X3WHz"
      },
      "id": "DrP3Zb8X3WHz",
      "execution_count": 51,
      "outputs": []
    },
    {
      "cell_type": "code",
      "source": [
        "result = model.fit(X_train, y_train, epochs=10, validation_data = (X_val, y_val))"
      ],
      "metadata": {
        "colab": {
          "base_uri": "https://localhost:8080/"
        },
        "id": "muFodBBS3XIi",
        "outputId": "fa308c90-8d4c-445e-b1a2-c542dacc4575"
      },
      "id": "muFodBBS3XIi",
      "execution_count": 52,
      "outputs": [
        {
          "output_type": "stream",
          "name": "stdout",
          "text": [
            "Epoch 1/10\n",
            "1488/1488 [==============================] - 11s 7ms/step - loss: 0.5904 - accuracy: 0.7900 - val_loss: 0.4778 - val_accuracy: 0.8361\n",
            "Epoch 2/10\n",
            "1488/1488 [==============================] - 8s 6ms/step - loss: 0.4739 - accuracy: 0.8320 - val_loss: 0.3893 - val_accuracy: 0.8550\n",
            "Epoch 3/10\n",
            "1488/1488 [==============================] - 8s 6ms/step - loss: 0.4317 - accuracy: 0.8444 - val_loss: 0.4426 - val_accuracy: 0.8272\n",
            "Epoch 4/10\n",
            "1488/1488 [==============================] - 9s 6ms/step - loss: 0.4068 - accuracy: 0.8528 - val_loss: 0.3541 - val_accuracy: 0.8673\n",
            "Epoch 5/10\n",
            "1488/1488 [==============================] - 9s 6ms/step - loss: 0.3856 - accuracy: 0.8595 - val_loss: 0.3498 - val_accuracy: 0.8697\n",
            "Epoch 6/10\n",
            "1488/1488 [==============================] - 8s 5ms/step - loss: 0.3665 - accuracy: 0.8667 - val_loss: 0.3458 - val_accuracy: 0.8690\n",
            "Epoch 7/10\n",
            "1488/1488 [==============================] - 10s 6ms/step - loss: 0.3535 - accuracy: 0.8711 - val_loss: 0.3284 - val_accuracy: 0.8835\n",
            "Epoch 8/10\n",
            "1488/1488 [==============================] - 9s 6ms/step - loss: 0.3380 - accuracy: 0.8764 - val_loss: 0.3169 - val_accuracy: 0.8861\n",
            "Epoch 9/10\n",
            "1488/1488 [==============================] - 8s 5ms/step - loss: 0.3287 - accuracy: 0.8797 - val_loss: 0.3023 - val_accuracy: 0.8845\n",
            "Epoch 10/10\n",
            "1488/1488 [==============================] - 8s 6ms/step - loss: 0.3177 - accuracy: 0.8839 - val_loss: 0.3487 - val_accuracy: 0.8766\n"
          ]
        }
      ]
    },
    {
      "cell_type": "code",
      "source": [
        "fig, axes = plt.subplots(nrows=1, ncols=2, figsize=(15, 5))\n",
        "\n",
        "axes[0].plot(result.epoch, result.history[\"loss\"], label='Train Loss')\n",
        "axes[0].plot(result.epoch, result.history['val_loss'], label='Val Loss')\n",
        "axes[0].set_ylim(0.0, 1)\n",
        "axes[0].legend()\n",
        "axes[0].set_title('Loss')\n",
        "\n",
        "axes[1].plot(result.epoch, result.history['accuracy'], label='Train Accuracy')\n",
        "axes[1].plot(result.epoch, result.history['val_accuracy'], label='Val Accuracy')\n",
        "axes[1].set_ylim(0.7, 1)\n",
        "axes[1].legend()\n",
        "axes[1].set_title('ACC')\n",
        "\n",
        "plt.show()"
      ],
      "metadata": {
        "colab": {
          "base_uri": "https://localhost:8080/",
          "height": 336
        },
        "id": "2fkmW5yB3YdV",
        "outputId": "f1c65264-4189-492f-ac91-2d2608c67113"
      },
      "id": "2fkmW5yB3YdV",
      "execution_count": 53,
      "outputs": [
        {
          "output_type": "display_data",
          "data": {
            "text/plain": [
              "<Figure size 1080x360 with 2 Axes>"
            ],
            "image/png": "[encoded data removed]"
          },
          "metadata": {
            "needs_background": "light"
          }
        }
      ]
    },
    {
      "cell_type": "markdown",
      "source": [
        "# Regularization"
      ],
      "metadata": {
        "id": "ZvyK79n63r-5"
      },
      "id": "ZvyK79n63r-5"
    },
    {
      "cell_type": "markdown",
      "source": [
        "크기가 큰 α를 유지한다면, 학습은 빠르지만 optima 부근에서 맴돌 뿐 정확히 수렴하기 어려움<br>\n",
        "크기가 작은 α를 유지한다면, 학습이 매우 느림<br>\n",
        "Learning rate decay를 사용하면 처음에는 learning rate α를 하여 빠르게 학습을 진행하고, α값이 점차 작아지면서 optima 부근의 매우 좁은 범위까지 집입할 수 있게 함"
      ],
      "metadata": {
        "id": "Ah-ax1Kq3t5v"
      },
      "id": "Ah-ax1Kq3t5v"
    },
    {
      "cell_type": "code",
      "source": [
        "initializer = keras.initializers.HeUniform(seed = 21)\n",
        "model = keras.Sequential([\n",
        "    keras.layers.Flatten(input_shape=(28, 28)),\n",
        "    keras.layers.Dense(512, kernel_initializer=initializer),\n",
        "    keras.layers.BatchNormalization(),\n",
        "    keras.layers.Activation('relu'),\n",
        "    keras.layers.Dropout(0.2),\n",
        "    keras.layers.Dense(256, kernel_initializer=initializer),\n",
        "    keras.layers.BatchNormalization(),\n",
        "    keras.layers.Activation('relu'),\n",
        "    keras.layers.Dropout(0.2),\n",
        "    keras.layers.Dense(128, kernel_initializer=initializer),\n",
        "    keras.layers.BatchNormalization(),\n",
        "    keras.layers.Activation('relu'),\n",
        "    keras.layers.Dropout(0.2),\n",
        "    keras.layers.Dense(10, activation='softmax', kernel_initializer=initializer)\n",
        "])\n",
        "\n",
        "print(model.summary())"
      ],
      "metadata": {
        "colab": {
          "base_uri": "https://localhost:8080/"
        },
        "id": "mXDnE_893s0J",
        "outputId": "2e3e1417-0ff7-4f60-f0dd-d803cc9599d9"
      },
      "id": "mXDnE_893s0J",
      "execution_count": 54,
      "outputs": [
        {
          "output_type": "stream",
          "name": "stdout",
          "text": [
            "Model: \"sequential_10\"\n",
            "_________________________________________________________________\n",
            " Layer (type)                Output Shape              Param #   \n",
            "=================================================================\n",
            " flatten_10 (Flatten)        (None, 784)               0         \n",
            "                                                                 \n",
            " dense_40 (Dense)            (None, 512)               401920    \n",
            "                                                                 \n",
            " batch_normalization_25 (Bat  (None, 512)              2048      \n",
            " chNormalization)                                                \n",
            "                                                                 \n",
            " activation_9 (Activation)   (None, 512)               0         \n",
            "                                                                 \n",
            " dropout_23 (Dropout)        (None, 512)               0         \n",
            "                                                                 \n",
            " dense_41 (Dense)            (None, 256)               131328    \n",
            "                                                                 \n",
            " batch_normalization_26 (Bat  (None, 256)              1024      \n",
            " chNormalization)                                                \n",
            "                                                                 \n",
            " activation_10 (Activation)  (None, 256)               0         \n",
            "                                                                 \n",
            " dropout_24 (Dropout)        (None, 256)               0         \n",
            "                                                                 \n",
            " dense_42 (Dense)            (None, 128)               32896     \n",
            "                                                                 \n",
            " batch_normalization_27 (Bat  (None, 128)              512       \n",
            " chNormalization)                                                \n",
            "                                                                 \n",
            " activation_11 (Activation)  (None, 128)               0         \n",
            "                                                                 \n",
            " dropout_25 (Dropout)        (None, 128)               0         \n",
            "                                                                 \n",
            " dense_43 (Dense)            (None, 10)                1290      \n",
            "                                                                 \n",
            "=================================================================\n",
            "Total params: 571,018\n",
            "Trainable params: 569,226\n",
            "Non-trainable params: 1,792\n",
            "_________________________________________________________________\n",
            "None\n"
          ]
        }
      ]
    },
    {
      "cell_type": "code",
      "source": [
        "optimizer = keras.optimizers.Adam(lr=0.01, decay = 0.001)\n",
        "model.compile(optimizer=optimizer,\n",
        "              loss=tf.keras.losses.SparseCategoricalCrossentropy(from_logits=True),\n",
        "              metrics=['accuracy'])"
      ],
      "metadata": {
        "id": "MzcGqtns4UeQ"
      },
      "id": "MzcGqtns4UeQ",
      "execution_count": 55,
      "outputs": []
    },
    {
      "cell_type": "code",
      "source": [
        "result = model.fit(X_train, y_train, epochs=10, validation_data = (X_val, y_val))"
      ],
      "metadata": {
        "colab": {
          "base_uri": "https://localhost:8080/"
        },
        "id": "R4zqfTZK4V6v",
        "outputId": "89596f8b-2a1b-4fd4-fb3d-df4d65ded08a"
      },
      "id": "R4zqfTZK4V6v",
      "execution_count": 56,
      "outputs": [
        {
          "output_type": "stream",
          "name": "stdout",
          "text": [
            "Epoch 1/10\n",
            "1488/1488 [==============================] - 9s 6ms/step - loss: 0.5697 - accuracy: 0.7951 - val_loss: 0.4409 - val_accuracy: 0.8337\n",
            "Epoch 2/10\n",
            "1488/1488 [==============================] - 9s 6ms/step - loss: 0.4226 - accuracy: 0.8461 - val_loss: 0.3613 - val_accuracy: 0.8720\n",
            "Epoch 3/10\n",
            "1488/1488 [==============================] - 8s 5ms/step - loss: 0.3705 - accuracy: 0.8641 - val_loss: 0.3354 - val_accuracy: 0.8760\n",
            "Epoch 4/10\n",
            "1488/1488 [==============================] - 8s 5ms/step - loss: 0.3349 - accuracy: 0.8774 - val_loss: 0.3028 - val_accuracy: 0.8875\n",
            "Epoch 5/10\n",
            "1488/1488 [==============================] - 8s 5ms/step - loss: 0.3141 - accuracy: 0.8846 - val_loss: 0.2971 - val_accuracy: 0.8899\n",
            "Epoch 6/10\n",
            "1488/1488 [==============================] - 8s 5ms/step - loss: 0.2946 - accuracy: 0.8909 - val_loss: 0.2894 - val_accuracy: 0.8937\n",
            "Epoch 7/10\n",
            "1488/1488 [==============================] - 8s 5ms/step - loss: 0.2757 - accuracy: 0.8953 - val_loss: 0.2833 - val_accuracy: 0.8960\n",
            "Epoch 8/10\n",
            "1488/1488 [==============================] - 9s 6ms/step - loss: 0.2648 - accuracy: 0.9005 - val_loss: 0.2741 - val_accuracy: 0.8991\n",
            "Epoch 9/10\n",
            "1488/1488 [==============================] - 8s 5ms/step - loss: 0.2541 - accuracy: 0.9046 - val_loss: 0.2713 - val_accuracy: 0.9018\n",
            "Epoch 10/10\n",
            "1488/1488 [==============================] - 8s 5ms/step - loss: 0.2421 - accuracy: 0.9096 - val_loss: 0.2699 - val_accuracy: 0.9008\n"
          ]
        }
      ]
    },
    {
      "cell_type": "code",
      "source": [
        "fig, axes = plt.subplots(nrows=1, ncols=2, figsize=(15, 5))\n",
        "\n",
        "axes[0].plot(result.epoch, result.history[\"loss\"], label='Train Loss')\n",
        "axes[0].plot(result.epoch, result.history['val_loss'], label='Val Loss')\n",
        "axes[0].set_ylim(0.0, 1)\n",
        "axes[0].legend()\n",
        "axes[0].set_title('Loss')\n",
        "\n",
        "axes[1].plot(result.epoch, result.history['accuracy'], label='Train Accuracy')\n",
        "axes[1].plot(result.epoch, result.history['val_accuracy'], label='Val Accuracy')\n",
        "axes[1].set_ylim(0.7, 1)\n",
        "axes[1].legend()\n",
        "axes[1].set_title('ACC')\n",
        "\n",
        "plt.show()"
      ],
      "metadata": {
        "colab": {
          "base_uri": "https://localhost:8080/",
          "height": 336
        },
        "id": "8hQ1hMX34Xhc",
        "outputId": "6a762460-7e27-49c2-e84e-334439766f64"
      },
      "id": "8hQ1hMX34Xhc",
      "execution_count": 57,
      "outputs": [
        {
          "output_type": "display_data",
          "data": {
            "text/plain": [
              "<Figure size 1080x360 with 2 Axes>"
            ],
            "image/png": "[encoded data removed]"
          },
          "metadata": {
            "needs_background": "light"
          }
        }
      ]
    },
    {
      "cell_type": "markdown",
      "source": [
        "# 최적의 Model"
      ],
      "metadata": {
        "id": "-mMPsj724Ysc"
      },
      "id": "-mMPsj724Ysc"
    },
    {
      "cell_type": "code",
      "source": [
        "BATCH_SIZE = 128\n",
        "EPOCHS = 100 # 학습 횟수"
      ],
      "metadata": {
        "id": "gjI1VHr94YV0"
      },
      "id": "gjI1VHr94YV0",
      "execution_count": 58,
      "outputs": []
    },
    {
      "cell_type": "code",
      "source": [
        "initializer = keras.initializers.HeUniform(seed = 21) # He&Relu-> 가중치 고른 분포\n",
        "model = keras.Sequential([\n",
        "    keras.layers.Flatten(input_shape=(28, 28)),\n",
        "    keras.layers.Dense(512, kernel_initializer=initializer),\n",
        "    keras.layers.BatchNormalization(), # Data 분포 일정화\n",
        "    keras.layers.Activation('relu'),\n",
        "    keras.layers.Dropout(0.5), # weight 동조현상 방지\n",
        "    keras.layers.Dense(256, kernel_initializer=initializer),\n",
        "    keras.layers.BatchNormalization(),\n",
        "    keras.layers.Activation('relu'),\n",
        "    keras.layers.Dropout(0.5),\n",
        "    keras.layers.Dense(128, kernel_initializer=initializer),\n",
        "    keras.layers.BatchNormalization(),\n",
        "    keras.layers.Activation('relu'),\n",
        "    keras.layers.Dropout(0.5),\n",
        "    keras.layers.Dense(10, activation='softmax', kernel_initializer=initializer)\n",
        "])\n",
        "\n",
        "print(model.summary())"
      ],
      "metadata": {
        "colab": {
          "base_uri": "https://localhost:8080/"
        },
        "id": "Orb1FiQ54bQg",
        "outputId": "90f33ae7-23a5-40dd-ec63-337ad3dd1508"
      },
      "id": "Orb1FiQ54bQg",
      "execution_count": 60,
      "outputs": [
        {
          "output_type": "stream",
          "name": "stdout",
          "text": [
            "Model: \"sequential_12\"\n",
            "_________________________________________________________________\n",
            " Layer (type)                Output Shape              Param #   \n",
            "=================================================================\n",
            " flatten_12 (Flatten)        (None, 784)               0         \n",
            "                                                                 \n",
            " dense_45 (Dense)            (None, 512)               401920    \n",
            "                                                                 \n",
            " batch_normalization_28 (Bat  (None, 512)              2048      \n",
            " chNormalization)                                                \n",
            "                                                                 \n",
            " activation_12 (Activation)  (None, 512)               0         \n",
            "                                                                 \n",
            " dropout_26 (Dropout)        (None, 512)               0         \n",
            "                                                                 \n",
            " dense_46 (Dense)            (None, 256)               131328    \n",
            "                                                                 \n",
            " batch_normalization_29 (Bat  (None, 256)              1024      \n",
            " chNormalization)                                                \n",
            "                                                                 \n",
            " activation_13 (Activation)  (None, 256)               0         \n",
            "                                                                 \n",
            " dropout_27 (Dropout)        (None, 256)               0         \n",
            "                                                                 \n",
            " dense_47 (Dense)            (None, 128)               32896     \n",
            "                                                                 \n",
            " batch_normalization_30 (Bat  (None, 128)              512       \n",
            " chNormalization)                                                \n",
            "                                                                 \n",
            " activation_14 (Activation)  (None, 128)               0         \n",
            "                                                                 \n",
            " dropout_28 (Dropout)        (None, 128)               0         \n",
            "                                                                 \n",
            " dense_48 (Dense)            (None, 10)                1290      \n",
            "                                                                 \n",
            "=================================================================\n",
            "Total params: 571,018\n",
            "Trainable params: 569,226\n",
            "Non-trainable params: 1,792\n",
            "_________________________________________________________________\n",
            "None\n"
          ]
        }
      ]
    },
    {
      "cell_type": "code",
      "source": [
        "optimizer = keras.optimizers.Adam(lr=0.01, decay = 0.001) # learning rate : 보폭, decay : lr 천천히 줄여나감\n",
        "model.compile(optimizer=optimizer,\n",
        "              loss=tf.keras.losses.SparseCategoricalCrossentropy(from_logits=True),\n",
        "              metrics=['accuracy'])"
      ],
      "metadata": {
        "id": "hnpRmEve4keA"
      },
      "id": "hnpRmEve4keA",
      "execution_count": 61,
      "outputs": []
    },
    {
      "cell_type": "code",
      "source": [
        "from keras.callbacks import EarlyStopping\n",
        "earlystopping = EarlyStopping\n",
        "earlystopping = EarlyStopping(monitor='val_loss',  \n",
        "                              patience=10,         \n",
        "                             )\n",
        "# val_loss 감소 개선이 없는 epoch이 10번째 지속될 경우 학습 종료\n",
        "result = model.fit(X_train, y_train, epochs=EPOCHS, validation_data = (X_val, y_val), batch_size=BATCH_SIZE,callbacks=[earlystopping])"
      ],
      "metadata": {
        "colab": {
          "base_uri": "https://localhost:8080/"
        },
        "id": "b_F2P1ej4lQR",
        "outputId": "62ab4396-4979-4218-906e-e90dcb804b8f"
      },
      "id": "b_F2P1ej4lQR",
      "execution_count": 62,
      "outputs": [
        {
          "output_type": "stream",
          "name": "stdout",
          "text": [
            "Epoch 1/100\n",
            "372/372 [==============================] - 3s 6ms/step - loss: 0.6663 - accuracy: 0.7608 - val_loss: 0.4560 - val_accuracy: 0.8347\n",
            "Epoch 2/100\n",
            "372/372 [==============================] - 2s 6ms/step - loss: 0.4972 - accuracy: 0.8248 - val_loss: 0.3852 - val_accuracy: 0.8591\n",
            "Epoch 3/100\n",
            "372/372 [==============================] - 2s 6ms/step - loss: 0.4498 - accuracy: 0.8413 - val_loss: 0.3610 - val_accuracy: 0.8665\n",
            "Epoch 4/100\n",
            "372/372 [==============================] - 2s 5ms/step - loss: 0.4226 - accuracy: 0.8503 - val_loss: 0.3384 - val_accuracy: 0.8724\n",
            "Epoch 5/100\n",
            "372/372 [==============================] - 2s 6ms/step - loss: 0.3933 - accuracy: 0.8613 - val_loss: 0.3269 - val_accuracy: 0.8818\n",
            "Epoch 6/100\n",
            "372/372 [==============================] - 2s 5ms/step - loss: 0.3750 - accuracy: 0.8660 - val_loss: 0.3148 - val_accuracy: 0.8834\n",
            "Epoch 7/100\n",
            "372/372 [==============================] - 2s 5ms/step - loss: 0.3595 - accuracy: 0.8722 - val_loss: 0.3302 - val_accuracy: 0.8771\n",
            "Epoch 8/100\n",
            "372/372 [==============================] - 2s 6ms/step - loss: 0.3459 - accuracy: 0.8775 - val_loss: 0.3022 - val_accuracy: 0.8902\n",
            "Epoch 9/100\n",
            "372/372 [==============================] - 2s 5ms/step - loss: 0.3333 - accuracy: 0.8798 - val_loss: 0.3011 - val_accuracy: 0.8924\n",
            "Epoch 10/100\n",
            "372/372 [==============================] - 2s 6ms/step - loss: 0.3276 - accuracy: 0.8827 - val_loss: 0.2900 - val_accuracy: 0.8915\n",
            "Epoch 11/100\n",
            "372/372 [==============================] - 2s 6ms/step - loss: 0.3137 - accuracy: 0.8878 - val_loss: 0.2900 - val_accuracy: 0.8936\n",
            "Epoch 12/100\n",
            "372/372 [==============================] - 2s 5ms/step - loss: 0.3057 - accuracy: 0.8911 - val_loss: 0.2860 - val_accuracy: 0.8935\n",
            "Epoch 13/100\n",
            "372/372 [==============================] - 2s 6ms/step - loss: 0.2960 - accuracy: 0.8938 - val_loss: 0.2856 - val_accuracy: 0.8942\n",
            "Epoch 14/100\n",
            "372/372 [==============================] - 2s 6ms/step - loss: 0.2910 - accuracy: 0.8949 - val_loss: 0.2993 - val_accuracy: 0.8887\n",
            "Epoch 15/100\n",
            "372/372 [==============================] - 2s 6ms/step - loss: 0.2847 - accuracy: 0.8984 - val_loss: 0.2786 - val_accuracy: 0.8969\n",
            "Epoch 16/100\n",
            "372/372 [==============================] - 2s 6ms/step - loss: 0.2728 - accuracy: 0.9029 - val_loss: 0.2800 - val_accuracy: 0.8997\n",
            "Epoch 17/100\n",
            "372/372 [==============================] - 2s 6ms/step - loss: 0.2719 - accuracy: 0.9014 - val_loss: 0.2839 - val_accuracy: 0.8979\n",
            "Epoch 18/100\n",
            "372/372 [==============================] - 2s 6ms/step - loss: 0.2645 - accuracy: 0.9038 - val_loss: 0.2725 - val_accuracy: 0.9028\n",
            "Epoch 19/100\n",
            "372/372 [==============================] - 2s 6ms/step - loss: 0.2565 - accuracy: 0.9071 - val_loss: 0.2765 - val_accuracy: 0.9009\n",
            "Epoch 20/100\n",
            "372/372 [==============================] - 2s 5ms/step - loss: 0.2507 - accuracy: 0.9095 - val_loss: 0.2762 - val_accuracy: 0.9020\n",
            "Epoch 21/100\n",
            "372/372 [==============================] - 2s 6ms/step - loss: 0.2454 - accuracy: 0.9103 - val_loss: 0.2823 - val_accuracy: 0.8997\n",
            "Epoch 22/100\n",
            "372/372 [==============================] - 2s 6ms/step - loss: 0.2461 - accuracy: 0.9108 - val_loss: 0.2704 - val_accuracy: 0.9036\n",
            "Epoch 23/100\n",
            "372/372 [==============================] - 2s 5ms/step - loss: 0.2382 - accuracy: 0.9151 - val_loss: 0.2726 - val_accuracy: 0.9024\n",
            "Epoch 24/100\n",
            "372/372 [==============================] - 2s 5ms/step - loss: 0.2331 - accuracy: 0.9153 - val_loss: 0.2768 - val_accuracy: 0.9032\n",
            "Epoch 25/100\n",
            "372/372 [==============================] - 2s 5ms/step - loss: 0.2287 - accuracy: 0.9163 - val_loss: 0.2710 - val_accuracy: 0.9059\n",
            "Epoch 26/100\n",
            "372/372 [==============================] - 2s 6ms/step - loss: 0.2288 - accuracy: 0.9175 - val_loss: 0.2737 - val_accuracy: 0.9050\n",
            "Epoch 27/100\n",
            "372/372 [==============================] - 2s 5ms/step - loss: 0.2211 - accuracy: 0.9197 - val_loss: 0.2727 - val_accuracy: 0.9050\n",
            "Epoch 28/100\n",
            "372/372 [==============================] - 2s 6ms/step - loss: 0.2211 - accuracy: 0.9180 - val_loss: 0.2709 - val_accuracy: 0.9047\n",
            "Epoch 29/100\n",
            "372/372 [==============================] - 2s 5ms/step - loss: 0.2190 - accuracy: 0.9202 - val_loss: 0.2676 - val_accuracy: 0.9070\n",
            "Epoch 30/100\n",
            "372/372 [==============================] - 2s 5ms/step - loss: 0.2111 - accuracy: 0.9245 - val_loss: 0.2729 - val_accuracy: 0.9058\n",
            "Epoch 31/100\n",
            "372/372 [==============================] - 2s 5ms/step - loss: 0.2103 - accuracy: 0.9229 - val_loss: 0.2704 - val_accuracy: 0.9072\n",
            "Epoch 32/100\n",
            "372/372 [==============================] - 2s 5ms/step - loss: 0.2093 - accuracy: 0.9245 - val_loss: 0.2691 - val_accuracy: 0.9057\n",
            "Epoch 33/100\n",
            "372/372 [==============================] - 2s 5ms/step - loss: 0.2039 - accuracy: 0.9255 - val_loss: 0.2696 - val_accuracy: 0.9077\n",
            "Epoch 34/100\n",
            "372/372 [==============================] - 2s 6ms/step - loss: 0.2016 - accuracy: 0.9281 - val_loss: 0.2736 - val_accuracy: 0.9074\n",
            "Epoch 35/100\n",
            "372/372 [==============================] - 2s 6ms/step - loss: 0.1990 - accuracy: 0.9281 - val_loss: 0.2729 - val_accuracy: 0.9075\n",
            "Epoch 36/100\n",
            "372/372 [==============================] - 2s 6ms/step - loss: 0.1980 - accuracy: 0.9269 - val_loss: 0.2748 - val_accuracy: 0.9075\n",
            "Epoch 37/100\n",
            "372/372 [==============================] - 2s 6ms/step - loss: 0.1968 - accuracy: 0.9302 - val_loss: 0.2713 - val_accuracy: 0.9083\n",
            "Epoch 38/100\n",
            "372/372 [==============================] - 2s 6ms/step - loss: 0.1934 - accuracy: 0.9290 - val_loss: 0.2734 - val_accuracy: 0.9083\n",
            "Epoch 39/100\n",
            "372/372 [==============================] - 2s 6ms/step - loss: 0.1904 - accuracy: 0.9299 - val_loss: 0.2708 - val_accuracy: 0.9092\n"
          ]
        }
      ]
    },
    {
      "cell_type": "code",
      "source": [
        "fig, axes = plt.subplots(nrows=1, ncols=2, figsize=(15, 5))\n",
        "\n",
        "axes[0].plot(result.epoch, result.history[\"loss\"], label='Train Loss')\n",
        "axes[0].plot(result.epoch, result.history['val_loss'], label='Val Loss')\n",
        "axes[0].set_ylim(0.0, 1)\n",
        "axes[0].legend()\n",
        "axes[0].set_title('Loss')\n",
        "\n",
        "axes[1].plot(result.epoch, result.history['accuracy'], label='Train Accuracy')\n",
        "axes[1].plot(result.epoch, result.history['val_accuracy'], label='Val Accuracy')\n",
        "axes[1].set_ylim(0.7, 1)\n",
        "axes[1].legend()\n",
        "axes[1].set_title('ACC')\n",
        "\n",
        "plt.show()"
      ],
      "metadata": {
        "colab": {
          "base_uri": "https://localhost:8080/",
          "height": 336
        },
        "id": "RJ6BaqGs4mtB",
        "outputId": "46282fa1-9bc6-4e1e-f6fe-f5c13e71fcb7"
      },
      "id": "RJ6BaqGs4mtB",
      "execution_count": 63,
      "outputs": [
        {
          "output_type": "display_data",
          "data": {
            "text/plain": [
              "<Figure size 1080x360 with 2 Axes>"
            ],
            "image/png": "[encoded data removed]"
          },
          "metadata": {
            "needs_background": "light"
          }
        }
      ]
    },
    {
      "cell_type": "markdown",
      "source": [
        "성능 개선을 위해 CNN 사용 (이미지에서 CNN이 성능 좋음)+Dropout 증가"
      ],
      "metadata": {
        "id": "ClBztMxsAJQD"
      },
      "id": "ClBztMxsAJQD"
    },
    {
      "cell_type": "code",
      "source": [
        "BATCH_SIZE = 128\n",
        "EPOCHS = 100 # 학습 횟수\n",
        "earlystopping = EarlyStopping\n",
        "earlystopping = EarlyStopping(monitor='val_loss',  \n",
        "                              patience=10,         \n",
        "                             )"
      ],
      "metadata": {
        "id": "OzWseZZLAHte"
      },
      "id": "OzWseZZLAHte",
      "execution_count": 64,
      "outputs": []
    },
    {
      "cell_type": "code",
      "source": [
        "initializer = keras.initializers.HeUniform(seed = 21) \n",
        "model = tf.keras.Sequential([\n",
        "    keras.layers.Conv2D(filters = 64, # input 이미지에서 featuremap을 생성 하는 filter의 갯수\n",
        "                        kernel_size = 2, \n",
        "                        kernel_initializer=initializer, \n",
        "                        padding = 'same', # 외곽의 값을 0으로 채워넣어서 filter들로 만들어진 featuremap 기존의 이미지의 크기와 같게 함\n",
        "                        activation = 'relu', \n",
        "                        input_shape = (28, 28, 1)),\n",
        "    keras.layers.BatchNormalization(),\n",
        "    keras.layers.MaxPooling2D(pool_size = 2), # pooling 영역에서 가장 큰 값만 남기며 이미지 사이즈를 줄임\n",
        "    keras.layers.Dropout(0.3),\n",
        "    \n",
        "    keras.layers.Conv2D(filters = 128, kernel_size = 2, kernel_initializer=initializer, padding = 'same', activation = 'relu'),\n",
        "    keras.layers.BatchNormalization(),\n",
        "    keras.layers.MaxPooling2D(pool_size = 2),\n",
        "    keras.layers.Dropout(0.3),\n",
        "    \n",
        "    keras.layers.Conv2D(filters = 256, kernel_size = 2, kernel_initializer=initializer, padding = 'same', activation = 'relu'),\n",
        "    keras.layers.BatchNormalization(),\n",
        "    keras.layers.MaxPooling2D(pool_size = 2),\n",
        "    keras.layers.Dropout(0.3),\n",
        "    \n",
        "    keras.layers.Conv2D(filters = 512, kernel_size = 2, kernel_initializer=initializer, padding = 'same', activation = 'relu'),\n",
        "    keras.layers.BatchNormalization(),\n",
        "    keras.layers.MaxPooling2D(pool_size = 2),\n",
        "    keras.layers.Dropout(0.3),\n",
        "    \n",
        "    keras.layers.Flatten(), # Flaatten으로 이미지를 일차원으로 바꿔줌\n",
        "    keras.layers.Dense(1024, activation = 'relu'),\n",
        "    keras.layers.Dense(512, activation = 'relu'),\n",
        "    keras.layers.Dense(256, activation = 'relu'),\n",
        "    keras.layers.Dropout(0.5),\n",
        "    keras.layers.Dense(10, activation = 'softmax')\n",
        "])\n",
        "\n",
        "print(model.summary())\n"
      ],
      "metadata": {
        "colab": {
          "base_uri": "https://localhost:8080/"
        },
        "id": "0WZR017S9o-W",
        "outputId": "444a05ec-f45e-4680-bab1-0a75b3774e81"
      },
      "id": "0WZR017S9o-W",
      "execution_count": 67,
      "outputs": [
        {
          "output_type": "stream",
          "name": "stdout",
          "text": [
            "Model: \"sequential_15\"\n",
            "_________________________________________________________________\n",
            " Layer (type)                Output Shape              Param #   \n",
            "=================================================================\n",
            " conv2d_28 (Conv2D)          (None, 28, 28, 64)        320       \n",
            "                                                                 \n",
            " batch_normalization_41 (Bat  (None, 28, 28, 64)       256       \n",
            " chNormalization)                                                \n",
            "                                                                 \n",
            " max_pooling2d_28 (MaxPoolin  (None, 14, 14, 64)       0         \n",
            " g2D)                                                            \n",
            "                                                                 \n",
            " dropout_41 (Dropout)        (None, 14, 14, 64)        0         \n",
            "                                                                 \n",
            " conv2d_29 (Conv2D)          (None, 14, 14, 128)       32896     \n",
            "                                                                 \n",
            " batch_normalization_42 (Bat  (None, 14, 14, 128)      512       \n",
            " chNormalization)                                                \n",
            "                                                                 \n",
            " max_pooling2d_29 (MaxPoolin  (None, 7, 7, 128)        0         \n",
            " g2D)                                                            \n",
            "                                                                 \n",
            " dropout_42 (Dropout)        (None, 7, 7, 128)         0         \n",
            "                                                                 \n",
            " conv2d_30 (Conv2D)          (None, 7, 7, 256)         131328    \n",
            "                                                                 \n",
            " batch_normalization_43 (Bat  (None, 7, 7, 256)        1024      \n",
            " chNormalization)                                                \n",
            "                                                                 \n",
            " max_pooling2d_30 (MaxPoolin  (None, 3, 3, 256)        0         \n",
            " g2D)                                                            \n",
            "                                                                 \n",
            " dropout_43 (Dropout)        (None, 3, 3, 256)         0         \n",
            "                                                                 \n",
            " conv2d_31 (Conv2D)          (None, 3, 3, 512)         524800    \n",
            "                                                                 \n",
            " batch_normalization_44 (Bat  (None, 3, 3, 512)        2048      \n",
            " chNormalization)                                                \n",
            "                                                                 \n",
            " max_pooling2d_31 (MaxPoolin  (None, 1, 1, 512)        0         \n",
            " g2D)                                                            \n",
            "                                                                 \n",
            " dropout_44 (Dropout)        (None, 1, 1, 512)         0         \n",
            "                                                                 \n",
            " flatten_15 (Flatten)        (None, 512)               0         \n",
            "                                                                 \n",
            " dense_57 (Dense)            (None, 1024)              525312    \n",
            "                                                                 \n",
            " dense_58 (Dense)            (None, 512)               524800    \n",
            "                                                                 \n",
            " dense_59 (Dense)            (None, 256)               131328    \n",
            "                                                                 \n",
            " dropout_45 (Dropout)        (None, 256)               0         \n",
            "                                                                 \n",
            " dense_60 (Dense)            (None, 10)                2570      \n",
            "                                                                 \n",
            "=================================================================\n",
            "Total params: 1,877,194\n",
            "Trainable params: 1,875,274\n",
            "Non-trainable params: 1,920\n",
            "_________________________________________________________________\n",
            "None\n"
          ]
        }
      ]
    },
    {
      "cell_type": "code",
      "source": [
        "optimizer = keras.optimizers.Adam(lr=0.01, decay = 0.001) \n",
        "model.compile(optimizer=optimizer,\n",
        "              loss=tf.keras.losses.SparseCategoricalCrossentropy(from_logits=True),\n",
        "              metrics=['accuracy'])\n",
        "result = model.fit(X_train, y_train, epochs=EPOCHS, validation_data = (X_val, y_val), batch_size=BATCH_SIZE,callbacks=[earlystopping])"
      ],
      "metadata": {
        "colab": {
          "base_uri": "https://localhost:8080/"
        },
        "id": "tjdAo0f6D5Ot",
        "outputId": "44d7b4ae-03d1-44d6-f265-d466b4e9a3ba"
      },
      "id": "tjdAo0f6D5Ot",
      "execution_count": 68,
      "outputs": [
        {
          "output_type": "stream",
          "name": "stdout",
          "text": [
            "Epoch 1/100\n",
            "372/372 [==============================] - 13s 18ms/step - loss: 0.9725 - accuracy: 0.6826 - val_loss: 0.6684 - val_accuracy: 0.7496\n",
            "Epoch 2/100\n",
            "372/372 [==============================] - 6s 15ms/step - loss: 0.5380 - accuracy: 0.8045 - val_loss: 0.4032 - val_accuracy: 0.8537\n",
            "Epoch 3/100\n",
            "372/372 [==============================] - 6s 16ms/step - loss: 0.4543 - accuracy: 0.8428 - val_loss: 0.3386 - val_accuracy: 0.8762\n",
            "Epoch 4/100\n",
            "372/372 [==============================] - 6s 15ms/step - loss: 0.3941 - accuracy: 0.8623 - val_loss: 0.4385 - val_accuracy: 0.8521\n",
            "Epoch 5/100\n",
            "372/372 [==============================] - 6s 15ms/step - loss: 0.3631 - accuracy: 0.8746 - val_loss: 0.2840 - val_accuracy: 0.8986\n",
            "Epoch 6/100\n",
            "372/372 [==============================] - 6s 16ms/step - loss: 0.3426 - accuracy: 0.8813 - val_loss: 0.2944 - val_accuracy: 0.8966\n",
            "Epoch 7/100\n",
            "372/372 [==============================] - 6s 16ms/step - loss: 0.3233 - accuracy: 0.8864 - val_loss: 0.2923 - val_accuracy: 0.9001\n",
            "Epoch 8/100\n",
            "372/372 [==============================] - 6s 16ms/step - loss: 0.3101 - accuracy: 0.8900 - val_loss: 0.2534 - val_accuracy: 0.9124\n",
            "Epoch 9/100\n",
            "372/372 [==============================] - 6s 15ms/step - loss: 0.2956 - accuracy: 0.8969 - val_loss: 0.2421 - val_accuracy: 0.9182\n",
            "Epoch 10/100\n",
            "372/372 [==============================] - 6s 15ms/step - loss: 0.2822 - accuracy: 0.9004 - val_loss: 0.2449 - val_accuracy: 0.9138\n",
            "Epoch 11/100\n",
            "372/372 [==============================] - 6s 16ms/step - loss: 0.2725 - accuracy: 0.9052 - val_loss: 0.2367 - val_accuracy: 0.9194\n",
            "Epoch 12/100\n",
            "372/372 [==============================] - 6s 16ms/step - loss: 0.2596 - accuracy: 0.9076 - val_loss: 0.2204 - val_accuracy: 0.9238\n",
            "Epoch 13/100\n",
            "372/372 [==============================] - 6s 16ms/step - loss: 0.2587 - accuracy: 0.9080 - val_loss: 0.2405 - val_accuracy: 0.9124\n",
            "Epoch 14/100\n",
            "372/372 [==============================] - 6s 16ms/step - loss: 0.2517 - accuracy: 0.9109 - val_loss: 0.2711 - val_accuracy: 0.9118\n",
            "Epoch 15/100\n",
            "372/372 [==============================] - 6s 16ms/step - loss: 0.2391 - accuracy: 0.9134 - val_loss: 0.2283 - val_accuracy: 0.9203\n",
            "Epoch 16/100\n",
            "372/372 [==============================] - 6s 16ms/step - loss: 0.2364 - accuracy: 0.9163 - val_loss: 0.2149 - val_accuracy: 0.9249\n",
            "Epoch 17/100\n",
            "372/372 [==============================] - 6s 16ms/step - loss: 0.2279 - accuracy: 0.9179 - val_loss: 0.2216 - val_accuracy: 0.9229\n",
            "Epoch 18/100\n",
            "372/372 [==============================] - 6s 17ms/step - loss: 0.2253 - accuracy: 0.9167 - val_loss: 0.2975 - val_accuracy: 0.8978\n",
            "Epoch 19/100\n",
            "372/372 [==============================] - 6s 16ms/step - loss: 0.2197 - accuracy: 0.9199 - val_loss: 0.2084 - val_accuracy: 0.9305\n",
            "Epoch 20/100\n",
            "372/372 [==============================] - 7s 18ms/step - loss: 0.2181 - accuracy: 0.9221 - val_loss: 0.2075 - val_accuracy: 0.9293\n",
            "Epoch 21/100\n",
            "372/372 [==============================] - 6s 16ms/step - loss: 0.2122 - accuracy: 0.9231 - val_loss: 0.2080 - val_accuracy: 0.9324\n",
            "Epoch 22/100\n",
            "372/372 [==============================] - 6s 16ms/step - loss: 0.2069 - accuracy: 0.9252 - val_loss: 0.2092 - val_accuracy: 0.9313\n",
            "Epoch 23/100\n",
            "372/372 [==============================] - 6s 16ms/step - loss: 0.2013 - accuracy: 0.9265 - val_loss: 0.2066 - val_accuracy: 0.9314\n",
            "Epoch 24/100\n",
            "372/372 [==============================] - 6s 16ms/step - loss: 0.1999 - accuracy: 0.9278 - val_loss: 0.2007 - val_accuracy: 0.9312\n",
            "Epoch 25/100\n",
            "372/372 [==============================] - 6s 16ms/step - loss: 0.1959 - accuracy: 0.9279 - val_loss: 0.1999 - val_accuracy: 0.9336\n",
            "Epoch 26/100\n",
            "372/372 [==============================] - 6s 16ms/step - loss: 0.1947 - accuracy: 0.9284 - val_loss: 0.2264 - val_accuracy: 0.9256\n",
            "Epoch 27/100\n",
            "372/372 [==============================] - 6s 16ms/step - loss: 0.1926 - accuracy: 0.9288 - val_loss: 0.2075 - val_accuracy: 0.9323\n",
            "Epoch 28/100\n",
            "372/372 [==============================] - 6s 16ms/step - loss: 0.1867 - accuracy: 0.9310 - val_loss: 0.2110 - val_accuracy: 0.9326\n",
            "Epoch 29/100\n",
            "372/372 [==============================] - 6s 16ms/step - loss: 0.1848 - accuracy: 0.9328 - val_loss: 0.1965 - val_accuracy: 0.9345\n",
            "Epoch 30/100\n",
            "372/372 [==============================] - 6s 17ms/step - loss: 0.1777 - accuracy: 0.9330 - val_loss: 0.2037 - val_accuracy: 0.9321\n",
            "Epoch 31/100\n",
            "372/372 [==============================] - 6s 16ms/step - loss: 0.1768 - accuracy: 0.9341 - val_loss: 0.2026 - val_accuracy: 0.9354\n",
            "Epoch 32/100\n",
            "372/372 [==============================] - 6s 16ms/step - loss: 0.1694 - accuracy: 0.9371 - val_loss: 0.2013 - val_accuracy: 0.9356\n",
            "Epoch 33/100\n",
            "372/372 [==============================] - 6s 16ms/step - loss: 0.1703 - accuracy: 0.9366 - val_loss: 0.1985 - val_accuracy: 0.9360\n",
            "Epoch 34/100\n",
            "372/372 [==============================] - 6s 16ms/step - loss: 0.1706 - accuracy: 0.9369 - val_loss: 0.1986 - val_accuracy: 0.9361\n",
            "Epoch 35/100\n",
            "372/372 [==============================] - 6s 16ms/step - loss: 0.1639 - accuracy: 0.9371 - val_loss: 0.2034 - val_accuracy: 0.9344\n",
            "Epoch 36/100\n",
            "372/372 [==============================] - 6s 17ms/step - loss: 0.1639 - accuracy: 0.9388 - val_loss: 0.2001 - val_accuracy: 0.9358\n",
            "Epoch 37/100\n",
            "372/372 [==============================] - 6s 16ms/step - loss: 0.1625 - accuracy: 0.9395 - val_loss: 0.1980 - val_accuracy: 0.9380\n",
            "Epoch 38/100\n",
            "372/372 [==============================] - 6s 16ms/step - loss: 0.1616 - accuracy: 0.9422 - val_loss: 0.1975 - val_accuracy: 0.9363\n",
            "Epoch 39/100\n",
            "372/372 [==============================] - 6s 16ms/step - loss: 0.1579 - accuracy: 0.9419 - val_loss: 0.2050 - val_accuracy: 0.9350\n"
          ]
        }
      ]
    },
    {
      "cell_type": "code",
      "source": [
        "fig, axes = plt.subplots(nrows=1, ncols=2, figsize=(15, 5))\n",
        "\n",
        "axes[0].plot(result.epoch, result.history[\"loss\"], label='Train Loss')\n",
        "axes[0].plot(result.epoch, result.history['val_loss'], label='Val Loss')\n",
        "axes[0].set_ylim(0.0, 1)\n",
        "axes[0].legend()\n",
        "axes[0].set_title('Loss')\n",
        "\n",
        "axes[1].plot(result.epoch, result.history['accuracy'], label='Train Accuracy')\n",
        "axes[1].plot(result.epoch, result.history['val_accuracy'], label='Val Accuracy')\n",
        "axes[1].set_ylim(0.7, 1)\n",
        "axes[1].legend()\n",
        "axes[1].set_title('ACC')\n",
        "\n",
        "plt.show()"
      ],
      "metadata": {
        "colab": {
          "base_uri": "https://localhost:8080/",
          "height": 336
        },
        "id": "OncX4XA89-DA",
        "outputId": "8e51c05e-16c7-4f22-e50c-f26570aabaf4"
      },
      "id": "OncX4XA89-DA",
      "execution_count": 69,
      "outputs": [
        {
          "output_type": "display_data",
          "data": {
            "text/plain": [
              "<Figure size 1080x360 with 2 Axes>"
            ],
            "image/png": "[encoded data removed]"
          },
          "metadata": {
            "needs_background": "light"
          }
        }
      ]
    }
  ],
  "metadata": {
    "kernelspec": {
      "display_name": "Python 3 (ipykernel)",
      "language": "python",
      "name": "python3"
    },
    "language_info": {
      "codemirror_mode": {
        "name": "ipython",
        "version": 3
      },
      "file_extension": ".py",
      "mimetype": "text/x-python",
      "name": "python",
      "nbconvert_exporter": "python",
      "pygments_lexer": "ipython3",
      "version": "3.8.12"
    },
    "colab": {
      "name": "NN_Adv_Assignment_Dayoon.ipynb",
      "provenance": []
    },
    "accelerator": "GPU",
    "gpuClass": "standard"
  },
  "nbformat": 4,
  "nbformat_minor": 5
}